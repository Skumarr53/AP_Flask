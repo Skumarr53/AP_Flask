{
 "cells": [
  {
   "cell_type": "code",
   "execution_count": 1,
   "id": "2bf6dc5f",
   "metadata": {
    "ExecuteTime": {
     "end_time": "2021-12-23T06:05:34.718524Z",
     "start_time": "2021-12-23T06:05:34.527027Z"
    }
   },
   "outputs": [
    {
     "data": {
      "text/html": [
       "<style>.container { width:100% !important; }</style>"
      ],
      "text/plain": [
       "<IPython.core.display.HTML object>"
      ]
     },
     "metadata": {},
     "output_type": "display_data"
    }
   ],
   "source": [
    "from IPython.core.display import display, HTML\n",
    "display(HTML(\"<style>.container { width:100% !important; }</style>\"))\n",
    "\n",
    "import re\n",
    "import pandas as pd\n",
    "import datetime\n",
    "from dateutil.relativedelta import relativedelta\n",
    "import os\n",
    "from pdb import set_trace"
   ]
  },
  {
   "cell_type": "code",
   "execution_count": 2,
   "id": "e86afe35",
   "metadata": {
    "ExecuteTime": {
     "end_time": "2021-12-23T06:05:34.722733Z",
     "start_time": "2021-12-23T06:05:34.719591Z"
    }
   },
   "outputs": [],
   "source": [
    "def load_data(n_months=15):\n",
    "    start_date = datetime.datetime.today()\n",
    "    fraud_df_list = []\n",
    "    GraphSIF_df_list = []\n",
    "\n",
    "    for i in range(n_months):\n",
    "        start_date += relativedelta(months = -1)\n",
    "        mon = f'{str(start_date.month).zfill(2)}{start_date.year}'\n",
    "        print(mon)\n",
    "        if os.path.exists(f'./static/Fraud1_Flags_{mon}.csv'): fraud_df_list.append(pd.read_csv(f'./static/Fraud1_Flags_{mon}.csv'))\n",
    "        if os.path.exists(f'./static/GraphSIFresults_{mon}.csv'): GraphSIF_df_list.append(pd.read_csv(f'./static/GraphSIFresults_{mon}.csv'))\n",
    "    fraud_df = pd.concat(fraud_df_list)\n",
    "    graphSIF_df = pd.concat(GraphSIF_df_list)\n",
    "    return fraud_df,graphSIF_df"
   ]
  },
  {
   "cell_type": "code",
   "execution_count": 3,
   "id": "818ea82f",
   "metadata": {
    "ExecuteTime": {
     "end_time": "2021-12-23T06:05:36.123131Z",
     "start_time": "2021-12-23T06:05:35.103111Z"
    },
    "scrolled": true
   },
   "outputs": [
    {
     "name": "stdout",
     "output_type": "stream",
     "text": [
      "112021\n",
      "102021\n",
      "092021\n",
      "082021\n",
      "072021\n",
      "062021\n",
      "052021\n"
     ]
    },
    {
     "name": "stderr",
     "output_type": "stream",
     "text": [
      "/home/skumar/miniconda3/envs/AP_Flask/lib/python3.7/site-packages/IPython/core/interactiveshell.py:3337: DtypeWarning: Columns (25,70,104,114,115,121,211) have mixed types.Specify dtype option on import or set low_memory=False.\n",
      "  if (await self.run_code(code, result,  async_=asy)):\n",
      "/home/skumar/miniconda3/envs/AP_Flask/lib/python3.7/site-packages/IPython/core/interactiveshell.py:3337: DtypeWarning: Columns (70,104,114,115,121,211) have mixed types.Specify dtype option on import or set low_memory=False.\n",
      "  if (await self.run_code(code, result,  async_=asy)):\n"
     ]
    },
    {
     "name": "stdout",
     "output_type": "stream",
     "text": [
      "042021\n",
      "032021\n",
      "022021\n",
      "012021\n",
      "122020\n",
      "112020\n",
      "102020\n",
      "092020\n"
     ]
    }
   ],
   "source": [
    "fraud_df,graphSIF_df = load_data()"
   ]
  },
  {
   "cell_type": "code",
   "execution_count": 10,
   "id": "8f6ef70f",
   "metadata": {
    "ExecuteTime": {
     "end_time": "2021-12-22T04:48:53.073131Z",
     "start_time": "2021-12-22T04:48:53.012638Z"
    }
   },
   "outputs": [
    {
     "data": {
      "text/plain": [
       "array(['2021_Q2', '2021_Q1'], dtype=object)"
      ]
     },
     "execution_count": 10,
     "metadata": {},
     "output_type": "execute_result"
    }
   ],
   "source": [
    "q = fraud_df.Quarter.unique()\n",
    "quats = fraud_df.Quarter.unique()\n",
    "quats.sort()\n",
    "\n",
    "\n",
    "quarters\n",
    "fraud_df[fraud_df.Quarter.isin(quats[-2:])].Quarter.unique()"
   ]
  },
  {
   "cell_type": "code",
   "execution_count": 21,
   "id": "3dad9042",
   "metadata": {
    "ExecuteTime": {
     "end_time": "2021-12-20T10:16:30.834192Z",
     "start_time": "2021-12-20T10:16:30.752478Z"
    }
   },
   "outputs": [],
   "source": [
    "tmp = fraud_df[['Quarter','VENDOR_ID','VENDOR_NAME_SHORT','ACCOUNT_CAT','BUSINESS_UNIT','Full_Address','Vendor_PGRK','Account_PGRK','BU_PGRK','Address_PGRK','Vendor_PR_Var', 'Account_PR_Var', 'BU_PR_Var', 'Address_PR_Var']]"
   ]
  },
  {
   "cell_type": "code",
   "execution_count": 22,
   "id": "849c3a15",
   "metadata": {
    "ExecuteTime": {
     "end_time": "2021-12-20T10:16:31.431037Z",
     "start_time": "2021-12-20T10:16:31.415926Z"
    }
   },
   "outputs": [
    {
     "data": {
      "text/html": [
       "<div>\n",
       "<style scoped>\n",
       "    .dataframe tbody tr th:only-of-type {\n",
       "        vertical-align: middle;\n",
       "    }\n",
       "\n",
       "    .dataframe tbody tr th {\n",
       "        vertical-align: top;\n",
       "    }\n",
       "\n",
       "    .dataframe thead th {\n",
       "        text-align: right;\n",
       "    }\n",
       "</style>\n",
       "<table border=\"1\" class=\"dataframe\">\n",
       "  <thead>\n",
       "    <tr style=\"text-align: right;\">\n",
       "      <th></th>\n",
       "      <th>Quarter</th>\n",
       "      <th>VENDOR_ID</th>\n",
       "      <th>VENDOR_NAME_SHORT</th>\n",
       "      <th>ACCOUNT_CAT</th>\n",
       "      <th>BUSINESS_UNIT</th>\n",
       "      <th>Full_Address</th>\n",
       "      <th>Vendor_PGRK</th>\n",
       "      <th>Account_PGRK</th>\n",
       "      <th>BU_PGRK</th>\n",
       "      <th>Address_PGRK</th>\n",
       "      <th>Vendor_PR_Var</th>\n",
       "      <th>Account_PR_Var</th>\n",
       "      <th>BU_PR_Var</th>\n",
       "      <th>Address_PR_Var</th>\n",
       "    </tr>\n",
       "  </thead>\n",
       "  <tbody>\n",
       "    <tr>\n",
       "      <th>0</th>\n",
       "      <td>2021_Q2</td>\n",
       "      <td>ACEUS0000068129</td>\n",
       "      <td>LIGHTEDGES-001</td>\n",
       "      <td>PRE_T_INC_INCL_RL_GN</td>\n",
       "      <td>10508</td>\n",
       "      <td>PO BOX 874074, KANSAS CITY, MO, USA</td>\n",
       "      <td>0.890443</td>\n",
       "      <td>592.637303</td>\n",
       "      <td>20.076933</td>\n",
       "      <td>0.419444</td>\n",
       "      <td>0.064349</td>\n",
       "      <td>4.624858</td>\n",
       "      <td>-4.645429</td>\n",
       "      <td>0.019581</td>\n",
       "    </tr>\n",
       "    <tr>\n",
       "      <th>1</th>\n",
       "      <td>2021_Q2</td>\n",
       "      <td>ACEUS0000096529</td>\n",
       "      <td>JWHAMMERLL-001</td>\n",
       "      <td>PRE_T_INC_INCL_RL_GN</td>\n",
       "      <td>10008</td>\n",
       "      <td>4609 LYNHURST RD, SPRINGFIELD, IL, USA</td>\n",
       "      <td>0.886814</td>\n",
       "      <td>592.637303</td>\n",
       "      <td>588.321512</td>\n",
       "      <td>0.418136</td>\n",
       "      <td>0.662981</td>\n",
       "      <td>4.624858</td>\n",
       "      <td>3.126719</td>\n",
       "      <td>0.432447</td>\n",
       "    </tr>\n",
       "    <tr>\n",
       "      <th>2</th>\n",
       "      <td>2021_Q2</td>\n",
       "      <td>ACECA0000005661</td>\n",
       "      <td>SERVICESDE-001</td>\n",
       "      <td>PRE_T_INC_INCL_RL_GN</td>\n",
       "      <td>72061</td>\n",
       "      <td>AUTOMOBILES CANADIENS INC, PO BOX 20039 RPO BA...</td>\n",
       "      <td>0.749724</td>\n",
       "      <td>592.637303</td>\n",
       "      <td>27.115617</td>\n",
       "      <td>0.377596</td>\n",
       "      <td>-21.068945</td>\n",
       "      <td>4.624858</td>\n",
       "      <td>3.384136</td>\n",
       "      <td>-13.662313</td>\n",
       "    </tr>\n",
       "    <tr>\n",
       "      <th>3</th>\n",
       "      <td>2021_Q2</td>\n",
       "      <td>ACEUS0000002800</td>\n",
       "      <td>ESISINC-001</td>\n",
       "      <td>PRE_T_INC_INCL_RL_GN</td>\n",
       "      <td>10008</td>\n",
       "      <td>DEPT CH 10123, PALATINE, IL, USA</td>\n",
       "      <td>28.804388</td>\n",
       "      <td>592.637303</td>\n",
       "      <td>588.321512</td>\n",
       "      <td>5.612262</td>\n",
       "      <td>16.031197</td>\n",
       "      <td>4.624858</td>\n",
       "      <td>3.126719</td>\n",
       "      <td>7.539529</td>\n",
       "    </tr>\n",
       "    <tr>\n",
       "      <th>4</th>\n",
       "      <td>2021_Q2</td>\n",
       "      <td>ACECA0000007384</td>\n",
       "      <td>MANIONWILK-001</td>\n",
       "      <td>OTHER_ASSETS</td>\n",
       "      <td>32002</td>\n",
       "      <td>500 21 FOUR SEASONS PLACE, TORONTO, ON, CAN</td>\n",
       "      <td>0.597571</td>\n",
       "      <td>82.807017</td>\n",
       "      <td>8.024211</td>\n",
       "      <td>0.334669</td>\n",
       "      <td>NaN</td>\n",
       "      <td>-2.116058</td>\n",
       "      <td>-13.092493</td>\n",
       "      <td>NaN</td>\n",
       "    </tr>\n",
       "  </tbody>\n",
       "</table>\n",
       "</div>"
      ],
      "text/plain": [
       "   Quarter        VENDOR_ID VENDOR_NAME_SHORT           ACCOUNT_CAT  \\\n",
       "0  2021_Q2  ACEUS0000068129    LIGHTEDGES-001  PRE_T_INC_INCL_RL_GN   \n",
       "1  2021_Q2  ACEUS0000096529    JWHAMMERLL-001  PRE_T_INC_INCL_RL_GN   \n",
       "2  2021_Q2  ACECA0000005661    SERVICESDE-001  PRE_T_INC_INCL_RL_GN   \n",
       "3  2021_Q2  ACEUS0000002800       ESISINC-001  PRE_T_INC_INCL_RL_GN   \n",
       "4  2021_Q2  ACECA0000007384    MANIONWILK-001          OTHER_ASSETS   \n",
       "\n",
       "  BUSINESS_UNIT                                       Full_Address  \\\n",
       "0         10508                PO BOX 874074, KANSAS CITY, MO, USA   \n",
       "1         10008             4609 LYNHURST RD, SPRINGFIELD, IL, USA   \n",
       "2         72061  AUTOMOBILES CANADIENS INC, PO BOX 20039 RPO BA...   \n",
       "3         10008                   DEPT CH 10123, PALATINE, IL, USA   \n",
       "4         32002        500 21 FOUR SEASONS PLACE, TORONTO, ON, CAN   \n",
       "\n",
       "   Vendor_PGRK  Account_PGRK     BU_PGRK  Address_PGRK  Vendor_PR_Var  \\\n",
       "0     0.890443    592.637303   20.076933      0.419444       0.064349   \n",
       "1     0.886814    592.637303  588.321512      0.418136       0.662981   \n",
       "2     0.749724    592.637303   27.115617      0.377596     -21.068945   \n",
       "3    28.804388    592.637303  588.321512      5.612262      16.031197   \n",
       "4     0.597571     82.807017    8.024211      0.334669            NaN   \n",
       "\n",
       "   Account_PR_Var  BU_PR_Var  Address_PR_Var  \n",
       "0        4.624858  -4.645429        0.019581  \n",
       "1        4.624858   3.126719        0.432447  \n",
       "2        4.624858   3.384136      -13.662313  \n",
       "3        4.624858   3.126719        7.539529  \n",
       "4       -2.116058 -13.092493             NaN  "
      ]
     },
     "execution_count": 22,
     "metadata": {},
     "output_type": "execute_result"
    }
   ],
   "source": [
    "tmp.head()"
   ]
  },
  {
   "cell_type": "markdown",
   "id": "778c52f2",
   "metadata": {},
   "source": [
    "## Input data Prep (PageRank and Edges)"
   ]
  },
  {
   "cell_type": "code",
   "execution_count": 25,
   "id": "b012834a",
   "metadata": {
    "ExecuteTime": {
     "end_time": "2021-12-21T07:49:06.661690Z",
     "start_time": "2021-12-21T07:49:06.651394Z"
    }
   },
   "outputs": [],
   "source": [
    "def GraphInp_prep(fraud_df):\n",
    "    \n",
    "    ### PageRank df preparation\n",
    "    pr_stats_df = fraud_df[['Quarter','VENDOR_ID','NAME1','ACCOUNT_CAT','BUSINESS_UNIT','Full_Address','Vendor_PGRK','Account_PGRK','BU_PGRK','Address_PGRK','Vendor_PR_Var', 'Account_PR_Var', 'BU_PR_Var', 'Address_PR_Var']].copy()\n",
    "\n",
    "    dic = {'VENDOR_ID': ['Quarter','VENDOR_ID','Vendor_PGRK','Vendor_PR_Var','NAME1'],\n",
    "           'ACCOUNT': ['Quarter','ACCOUNT_CAT','Account_PGRK','Account_PR_Var','NAME1'],\n",
    "           'BUSINESS_UNIT': ['Quarter','BUSINESS_UNIT','BU_PGRK','BU_PR_Var','NAME1'],\n",
    "           'Full_Address': ['Quarter','Full_Address','Address_PGRK','Address_PR_Var','NAME1']}\n",
    "\n",
    "    PageRank_df = pd.DataFrame()\n",
    "    for x, y in dic.items():\n",
    "        entity_df = pr_stats_df[y]\n",
    "        if not x == 'VENDOR_ID':\n",
    "            entity_df['NAME1'] = ''\n",
    "        entity_df['Entity_type'] = x\n",
    "        entity_df.columns = ['Quarter', 'id', 'PageRank','PGRK_PrctCng','NAME1', 'Entity_type']\n",
    "        entity_df_agg = entity_df.groupby(\n",
    "            list(entity_df.columns),dropna=False).size().reset_index(name='n_trans')\n",
    "        PageRank_df = PageRank_df.append(entity_df_agg)\n",
    "\n",
    "    PageRank_df = pd.pivot_table(PageRank_df,\n",
    "                                  index=['id', 'Entity_type', 'NAME1'],\n",
    "                                  columns=['Quarter'],\n",
    "                                  values=['PageRank','PGRK_PrctCng', 'n_trans']).reset_index()\n",
    "    PageRank_df.columns = ['_'.join(col).strip('_') for col in PageRank_df.columns]\n",
    "    PageRank_df['id'] = PageRank_df.id.apply(lambda x: re.sub(', ', ',<br>', x, 2))\n",
    "\n",
    "    ## Edges df preparation\n",
    "    Edges_stats = fraud_df[['VENDOR_ID', 'Full_Address', 'ACCOUNT_CAT', 'BUSINESS_UNIT','Quarter']].copy()\n",
    "\n",
    "    Edges_stats = Edges_stats.melt(id_vars=['Quarter','VENDOR_ID'], value_vars=['ACCOUNT_CAT', 'BUSINESS_UNIT','Full_Address'])\n",
    "\n",
    "    Edges_df = Edges_stats.groupby(list(Edges_stats.columns),dropna=False).size().reset_index(name='n_edges')\n",
    "    Edges_df.drop('variable',axis=1,inplace=True)\n",
    "    Edges_df.rename(columns={'VENDOR_ID':'src','value':'dst'},inplace=True)\n",
    "    Edges_df['dst'] = Edges_df.dst.apply(lambda x: re.sub(', ', ',<br>', x, 2))\n",
    "\n",
    "    return PageRank_df, Edges_df\n"
   ]
  },
  {
   "cell_type": "code",
   "execution_count": 28,
   "id": "a3799905",
   "metadata": {
    "ExecuteTime": {
     "end_time": "2021-12-21T08:28:34.318274Z",
     "start_time": "2021-12-21T08:28:34.136409Z"
    }
   },
   "outputs": [
    {
     "name": "stderr",
     "output_type": "stream",
     "text": [
      "/home/skumar/miniconda3/envs/AP_Flask/lib/python3.7/site-packages/ipykernel_launcher.py:16: SettingWithCopyWarning: \n",
      "A value is trying to be set on a copy of a slice from a DataFrame.\n",
      "Try using .loc[row_indexer,col_indexer] = value instead\n",
      "\n",
      "See the caveats in the documentation: https://pandas.pydata.org/pandas-docs/stable/user_guide/indexing.html#returning-a-view-versus-a-copy\n",
      "  app.launch_new_instance()\n",
      "/home/skumar/miniconda3/envs/AP_Flask/lib/python3.7/site-packages/ipykernel_launcher.py:15: SettingWithCopyWarning: \n",
      "A value is trying to be set on a copy of a slice from a DataFrame.\n",
      "Try using .loc[row_indexer,col_indexer] = value instead\n",
      "\n",
      "See the caveats in the documentation: https://pandas.pydata.org/pandas-docs/stable/user_guide/indexing.html#returning-a-view-versus-a-copy\n",
      "  from ipykernel import kernelapp as app\n"
     ]
    }
   ],
   "source": [
    "pg, ed = GraphInp_prep(fraud_df)"
   ]
  },
  {
   "cell_type": "markdown",
   "id": "902bcdf9",
   "metadata": {},
   "source": [
    "### PageRank stats"
   ]
  },
  {
   "cell_type": "code",
   "execution_count": 29,
   "id": "57d48b01",
   "metadata": {
    "ExecuteTime": {
     "end_time": "2021-12-21T08:28:37.883272Z",
     "start_time": "2021-12-21T08:28:37.868542Z"
    }
   },
   "outputs": [
    {
     "data": {
      "text/html": [
       "<div>\n",
       "<style scoped>\n",
       "    .dataframe tbody tr th:only-of-type {\n",
       "        vertical-align: middle;\n",
       "    }\n",
       "\n",
       "    .dataframe tbody tr th {\n",
       "        vertical-align: top;\n",
       "    }\n",
       "\n",
       "    .dataframe thead th {\n",
       "        text-align: right;\n",
       "    }\n",
       "</style>\n",
       "<table border=\"1\" class=\"dataframe\">\n",
       "  <thead>\n",
       "    <tr style=\"text-align: right;\">\n",
       "      <th></th>\n",
       "      <th>id</th>\n",
       "      <th>Entity_type</th>\n",
       "      <th>NAME1</th>\n",
       "      <th>PGRK_PrctCng_2021_Q1</th>\n",
       "      <th>PGRK_PrctCng_2021_Q2</th>\n",
       "      <th>PageRank_2021_Q1</th>\n",
       "      <th>PageRank_2021_Q2</th>\n",
       "      <th>n_trans_2021_Q1</th>\n",
       "      <th>n_trans_2021_Q2</th>\n",
       "    </tr>\n",
       "  </thead>\n",
       "  <tbody>\n",
       "    <tr>\n",
       "      <th>7340</th>\n",
       "      <td>ACEUS0000097859</td>\n",
       "      <td>VENDOR_ID</td>\n",
       "      <td>OMAR TANBOUZ</td>\n",
       "      <td>NaN</td>\n",
       "      <td>NaN</td>\n",
       "      <td>NaN</td>\n",
       "      <td>0.586991</td>\n",
       "      <td>NaN</td>\n",
       "      <td>1.0</td>\n",
       "    </tr>\n",
       "    <tr>\n",
       "      <th>9897</th>\n",
       "      <td>USCBL0000317582</td>\n",
       "      <td>VENDOR_ID</td>\n",
       "      <td>BROWN &amp; BROWN OF NEW YORK, INC.</td>\n",
       "      <td>NaN</td>\n",
       "      <td>2.793549</td>\n",
       "      <td>0.665201</td>\n",
       "      <td>0.683784</td>\n",
       "      <td>1.0</td>\n",
       "      <td>1.0</td>\n",
       "    </tr>\n",
       "    <tr>\n",
       "      <th>3728</th>\n",
       "      <td>ACECA0000005248</td>\n",
       "      <td>VENDOR_ID</td>\n",
       "      <td>EXAMONE CANADA</td>\n",
       "      <td>-40.334700</td>\n",
       "      <td>-26.499230</td>\n",
       "      <td>1.306721</td>\n",
       "      <td>0.960450</td>\n",
       "      <td>4.0</td>\n",
       "      <td>3.0</td>\n",
       "    </tr>\n",
       "    <tr>\n",
       "      <th>6264</th>\n",
       "      <td>ACEUS0000089858</td>\n",
       "      <td>VENDOR_ID</td>\n",
       "      <td>THE COTTON CHARITABLE FOUNDATION</td>\n",
       "      <td>NaN</td>\n",
       "      <td>NaN</td>\n",
       "      <td>NaN</td>\n",
       "      <td>0.556990</td>\n",
       "      <td>NaN</td>\n",
       "      <td>1.0</td>\n",
       "    </tr>\n",
       "    <tr>\n",
       "      <th>1855</th>\n",
       "      <td>3330 CUMBERLAND BLVD SUITE 500,&lt;br&gt;ATLANTA,&lt;br...</td>\n",
       "      <td>Full_Address</td>\n",
       "      <td></td>\n",
       "      <td>NaN</td>\n",
       "      <td>NaN</td>\n",
       "      <td>NaN</td>\n",
       "      <td>0.328778</td>\n",
       "      <td>NaN</td>\n",
       "      <td>1.0</td>\n",
       "    </tr>\n",
       "    <tr>\n",
       "      <th>5199</th>\n",
       "      <td>ACEUS0000062309</td>\n",
       "      <td>VENDOR_ID</td>\n",
       "      <td>CAPITOL CITY MINI STORAGE</td>\n",
       "      <td>-4.058044</td>\n",
       "      <td>0.064349</td>\n",
       "      <td>0.889871</td>\n",
       "      <td>0.890443</td>\n",
       "      <td>3.0</td>\n",
       "      <td>3.0</td>\n",
       "    </tr>\n",
       "    <tr>\n",
       "      <th>1885</th>\n",
       "      <td>3427 POLO DOWNS,&lt;br&gt;HOOVER,&lt;br&gt;AL, USA</td>\n",
       "      <td>Full_Address</td>\n",
       "      <td></td>\n",
       "      <td>NaN</td>\n",
       "      <td>NaN</td>\n",
       "      <td>NaN</td>\n",
       "      <td>0.431689</td>\n",
       "      <td>NaN</td>\n",
       "      <td>2.0</td>\n",
       "    </tr>\n",
       "    <tr>\n",
       "      <th>2835</th>\n",
       "      <td>7 ZUILLS PARK DRIVE,&lt;br&gt;SMITHS,&lt;br&gt;BMU</td>\n",
       "      <td>Full_Address</td>\n",
       "      <td></td>\n",
       "      <td>-4.527394</td>\n",
       "      <td>1.498969</td>\n",
       "      <td>0.435419</td>\n",
       "      <td>0.441946</td>\n",
       "      <td>3.0</td>\n",
       "      <td>3.0</td>\n",
       "    </tr>\n",
       "    <tr>\n",
       "      <th>9825</th>\n",
       "      <td>TOMORROWS VOICES,&lt;br&gt;#4 HAPPY VALLEY ROAD,&lt;br&gt;...</td>\n",
       "      <td>Full_Address</td>\n",
       "      <td></td>\n",
       "      <td>NaN</td>\n",
       "      <td>NaN</td>\n",
       "      <td>NaN</td>\n",
       "      <td>0.330256</td>\n",
       "      <td>NaN</td>\n",
       "      <td>1.0</td>\n",
       "    </tr>\n",
       "    <tr>\n",
       "      <th>5297</th>\n",
       "      <td>ACEUS0000065807</td>\n",
       "      <td>VENDOR_ID</td>\n",
       "      <td>SF&amp;C INSURANCE ASSOCIATES, INC</td>\n",
       "      <td>-39.201160</td>\n",
       "      <td>14.682237</td>\n",
       "      <td>1.126653</td>\n",
       "      <td>1.292070</td>\n",
       "      <td>4.0</td>\n",
       "      <td>5.0</td>\n",
       "    </tr>\n",
       "  </tbody>\n",
       "</table>\n",
       "</div>"
      ],
      "text/plain": [
       "                                                     id   Entity_type  \\\n",
       "7340                                    ACEUS0000097859     VENDOR_ID   \n",
       "9897                                    USCBL0000317582     VENDOR_ID   \n",
       "3728                                    ACECA0000005248     VENDOR_ID   \n",
       "6264                                    ACEUS0000089858     VENDOR_ID   \n",
       "1855  3330 CUMBERLAND BLVD SUITE 500,<br>ATLANTA,<br...  Full_Address   \n",
       "5199                                    ACEUS0000062309     VENDOR_ID   \n",
       "1885             3427 POLO DOWNS,<br>HOOVER,<br>AL, USA  Full_Address   \n",
       "2835             7 ZUILLS PARK DRIVE,<br>SMITHS,<br>BMU  Full_Address   \n",
       "9825  TOMORROWS VOICES,<br>#4 HAPPY VALLEY ROAD,<br>...  Full_Address   \n",
       "5297                                    ACEUS0000065807     VENDOR_ID   \n",
       "\n",
       "                                 NAME1  PGRK_PrctCng_2021_Q1  \\\n",
       "7340                      OMAR TANBOUZ                   NaN   \n",
       "9897   BROWN & BROWN OF NEW YORK, INC.                   NaN   \n",
       "3728                    EXAMONE CANADA            -40.334700   \n",
       "6264  THE COTTON CHARITABLE FOUNDATION                   NaN   \n",
       "1855                                                     NaN   \n",
       "5199         CAPITOL CITY MINI STORAGE             -4.058044   \n",
       "1885                                                     NaN   \n",
       "2835                                               -4.527394   \n",
       "9825                                                     NaN   \n",
       "5297    SF&C INSURANCE ASSOCIATES, INC            -39.201160   \n",
       "\n",
       "      PGRK_PrctCng_2021_Q2  PageRank_2021_Q1  PageRank_2021_Q2  \\\n",
       "7340                   NaN               NaN          0.586991   \n",
       "9897              2.793549          0.665201          0.683784   \n",
       "3728            -26.499230          1.306721          0.960450   \n",
       "6264                   NaN               NaN          0.556990   \n",
       "1855                   NaN               NaN          0.328778   \n",
       "5199              0.064349          0.889871          0.890443   \n",
       "1885                   NaN               NaN          0.431689   \n",
       "2835              1.498969          0.435419          0.441946   \n",
       "9825                   NaN               NaN          0.330256   \n",
       "5297             14.682237          1.126653          1.292070   \n",
       "\n",
       "      n_trans_2021_Q1  n_trans_2021_Q2  \n",
       "7340              NaN              1.0  \n",
       "9897              1.0              1.0  \n",
       "3728              4.0              3.0  \n",
       "6264              NaN              1.0  \n",
       "1855              NaN              1.0  \n",
       "5199              3.0              3.0  \n",
       "1885              NaN              2.0  \n",
       "2835              3.0              3.0  \n",
       "9825              NaN              1.0  \n",
       "5297              4.0              5.0  "
      ]
     },
     "execution_count": 29,
     "metadata": {},
     "output_type": "execute_result"
    }
   ],
   "source": [
    "pg.sample(10)"
   ]
  },
  {
   "cell_type": "markdown",
   "id": "b802aa8f",
   "metadata": {
    "ExecuteTime": {
     "end_time": "2021-12-20T10:25:30.618960Z",
     "start_time": "2021-12-20T10:25:30.606134Z"
    }
   },
   "source": [
    "### Entity Edges"
   ]
  },
  {
   "cell_type": "code",
   "execution_count": 31,
   "id": "c878d27a",
   "metadata": {
    "ExecuteTime": {
     "end_time": "2021-12-21T10:51:52.122244Z",
     "start_time": "2021-12-21T10:51:52.111632Z"
    }
   },
   "outputs": [
    {
     "data": {
      "text/html": [
       "<div>\n",
       "<style scoped>\n",
       "    .dataframe tbody tr th:only-of-type {\n",
       "        vertical-align: middle;\n",
       "    }\n",
       "\n",
       "    .dataframe tbody tr th {\n",
       "        vertical-align: top;\n",
       "    }\n",
       "\n",
       "    .dataframe thead th {\n",
       "        text-align: right;\n",
       "    }\n",
       "</style>\n",
       "<table border=\"1\" class=\"dataframe\">\n",
       "  <thead>\n",
       "    <tr style=\"text-align: right;\">\n",
       "      <th></th>\n",
       "      <th>Quarter</th>\n",
       "      <th>src</th>\n",
       "      <th>dst</th>\n",
       "      <th>n_edges</th>\n",
       "    </tr>\n",
       "  </thead>\n",
       "  <tbody>\n",
       "    <tr>\n",
       "      <th>10418</th>\n",
       "      <td>2021_Q1</td>\n",
       "      <td>USCBL0002870035</td>\n",
       "      <td>1440 CHAPIN AVE SUITE 205,&lt;br&gt;BURLINGAME,&lt;br&gt;C...</td>\n",
       "      <td>1</td>\n",
       "    </tr>\n",
       "    <tr>\n",
       "      <th>161</th>\n",
       "      <td>2021_Q1</td>\n",
       "      <td>ACEBM0000002025</td>\n",
       "      <td>81200</td>\n",
       "      <td>1</td>\n",
       "    </tr>\n",
       "    <tr>\n",
       "      <th>21436</th>\n",
       "      <td>2021_Q2</td>\n",
       "      <td>USCBL0002870371</td>\n",
       "      <td>USBFA</td>\n",
       "      <td>1</td>\n",
       "    </tr>\n",
       "    <tr>\n",
       "      <th>14928</th>\n",
       "      <td>2021_Q2</td>\n",
       "      <td>ACEUS0000058213</td>\n",
       "      <td>70012</td>\n",
       "      <td>2</td>\n",
       "    </tr>\n",
       "    <tr>\n",
       "      <th>7037</th>\n",
       "      <td>2021_Q1</td>\n",
       "      <td>ACEUS0000089873</td>\n",
       "      <td>852 HART ST,&lt;br&gt;BROOKLYN,&lt;br&gt;NY, USA</td>\n",
       "      <td>2</td>\n",
       "    </tr>\n",
       "    <tr>\n",
       "      <th>10100</th>\n",
       "      <td>2021_Q1</td>\n",
       "      <td>USCBL0002869093</td>\n",
       "      <td>1111 BRIARCREST DRIVE,&lt;br&gt;BRYAN,&lt;br&gt;TX, USA</td>\n",
       "      <td>1</td>\n",
       "    </tr>\n",
       "    <tr>\n",
       "      <th>6285</th>\n",
       "      <td>2021_Q1</td>\n",
       "      <td>ACEUS0000083631</td>\n",
       "      <td>PRE_T_INC_INCL_RL_GN</td>\n",
       "      <td>2</td>\n",
       "    </tr>\n",
       "    <tr>\n",
       "      <th>10892</th>\n",
       "      <td>2021_Q2</td>\n",
       "      <td>ACEBM0000001411</td>\n",
       "      <td>PRE_T_INC_INCL_RL_GN</td>\n",
       "      <td>1</td>\n",
       "    </tr>\n",
       "    <tr>\n",
       "      <th>6486</th>\n",
       "      <td>2021_Q1</td>\n",
       "      <td>ACEUS0000085689</td>\n",
       "      <td>403B GERMAN MOYER URB,&lt;br&gt;PARQUE CENTRAL,&lt;br&gt;S...</td>\n",
       "      <td>6</td>\n",
       "    </tr>\n",
       "    <tr>\n",
       "      <th>7460</th>\n",
       "      <td>2021_Q1</td>\n",
       "      <td>ACEUS0000093558</td>\n",
       "      <td>5 WESTBROOK CORPORATE CENTER,&lt;br&gt;STE 920,&lt;br&gt;W...</td>\n",
       "      <td>3</td>\n",
       "    </tr>\n",
       "    <tr>\n",
       "      <th>1331</th>\n",
       "      <td>2021_Q1</td>\n",
       "      <td>ACECA0000006858</td>\n",
       "      <td>OTHER_ASSETS</td>\n",
       "      <td>3</td>\n",
       "    </tr>\n",
       "    <tr>\n",
       "      <th>20934</th>\n",
       "      <td>2021_Q2</td>\n",
       "      <td>USCBL0002867867</td>\n",
       "      <td>PRE_T_INC_INCL_RL_GN</td>\n",
       "      <td>1</td>\n",
       "    </tr>\n",
       "    <tr>\n",
       "      <th>20423</th>\n",
       "      <td>2021_Q2</td>\n",
       "      <td>CICNY1000221307</td>\n",
       "      <td>ACCOUNTS_PAYABLE</td>\n",
       "      <td>1</td>\n",
       "    </tr>\n",
       "    <tr>\n",
       "      <th>13163</th>\n",
       "      <td>2021_Q2</td>\n",
       "      <td>ACEUS0000006248</td>\n",
       "      <td>PREPAID_EXPENSES</td>\n",
       "      <td>1</td>\n",
       "    </tr>\n",
       "    <tr>\n",
       "      <th>3773</th>\n",
       "      <td>2021_Q1</td>\n",
       "      <td>ACEUS0000039389</td>\n",
       "      <td>70012</td>\n",
       "      <td>1</td>\n",
       "    </tr>\n",
       "  </tbody>\n",
       "</table>\n",
       "</div>"
      ],
      "text/plain": [
       "       Quarter              src  \\\n",
       "10418  2021_Q1  USCBL0002870035   \n",
       "161    2021_Q1  ACEBM0000002025   \n",
       "21436  2021_Q2  USCBL0002870371   \n",
       "14928  2021_Q2  ACEUS0000058213   \n",
       "7037   2021_Q1  ACEUS0000089873   \n",
       "10100  2021_Q1  USCBL0002869093   \n",
       "6285   2021_Q1  ACEUS0000083631   \n",
       "10892  2021_Q2  ACEBM0000001411   \n",
       "6486   2021_Q1  ACEUS0000085689   \n",
       "7460   2021_Q1  ACEUS0000093558   \n",
       "1331   2021_Q1  ACECA0000006858   \n",
       "20934  2021_Q2  USCBL0002867867   \n",
       "20423  2021_Q2  CICNY1000221307   \n",
       "13163  2021_Q2  ACEUS0000006248   \n",
       "3773   2021_Q1  ACEUS0000039389   \n",
       "\n",
       "                                                     dst  n_edges  \n",
       "10418  1440 CHAPIN AVE SUITE 205,<br>BURLINGAME,<br>C...        1  \n",
       "161                                                81200        1  \n",
       "21436                                              USBFA        1  \n",
       "14928                                              70012        2  \n",
       "7037                852 HART ST,<br>BROOKLYN,<br>NY, USA        2  \n",
       "10100        1111 BRIARCREST DRIVE,<br>BRYAN,<br>TX, USA        1  \n",
       "6285                                PRE_T_INC_INCL_RL_GN        2  \n",
       "10892                               PRE_T_INC_INCL_RL_GN        1  \n",
       "6486   403B GERMAN MOYER URB,<br>PARQUE CENTRAL,<br>S...        6  \n",
       "7460   5 WESTBROOK CORPORATE CENTER,<br>STE 920,<br>W...        3  \n",
       "1331                                        OTHER_ASSETS        3  \n",
       "20934                               PRE_T_INC_INCL_RL_GN        1  \n",
       "20423                                   ACCOUNTS_PAYABLE        1  \n",
       "13163                                   PREPAID_EXPENSES        1  \n",
       "3773                                               70012        1  "
      ]
     },
     "execution_count": 31,
     "metadata": {},
     "output_type": "execute_result"
    }
   ],
   "source": [
    "ed.sample(15)"
   ]
  },
  {
   "cell_type": "code",
   "execution_count": 30,
   "id": "f2a3816f",
   "metadata": {
    "ExecuteTime": {
     "end_time": "2021-12-21T10:51:48.080720Z",
     "start_time": "2021-12-21T10:51:48.074513Z"
    }
   },
   "outputs": [
    {
     "ename": "NameError",
     "evalue": "name 'Quarters_options' is not defined",
     "output_type": "error",
     "traceback": [
      "\u001b[0;31m---------------------------------------------------------------------------\u001b[0m",
      "\u001b[0;31mNameError\u001b[0m                                 Traceback (most recent call last)",
      "\u001b[0;32m<ipython-input-30-12271152525b>\u001b[0m in \u001b[0;36m<module>\u001b[0;34m\u001b[0m\n\u001b[0;32m----> 1\u001b[0;31m \u001b[0mlist\u001b[0m\u001b[0;34m(\u001b[0m\u001b[0mQuarters_options\u001b[0m\u001b[0;34m.\u001b[0m\u001b[0mkeys\u001b[0m\u001b[0;34m(\u001b[0m\u001b[0;34m)\u001b[0m\u001b[0;34m)\u001b[0m\u001b[0;34m[\u001b[0m\u001b[0;36m0\u001b[0m\u001b[0;34m]\u001b[0m\u001b[0;34m\u001b[0m\u001b[0;34m\u001b[0m\u001b[0m\n\u001b[0m",
      "\u001b[0;31mNameError\u001b[0m: name 'Quarters_options' is not defined"
     ]
    }
   ],
   "source": [
    "list(Quarters_options.keys())[0]"
   ]
  },
  {
   "cell_type": "markdown",
   "id": "0afc761e",
   "metadata": {},
   "source": [
    "## Appendix"
   ]
  },
  {
   "cell_type": "code",
   "execution_count": 37,
   "id": "e5a93611",
   "metadata": {
    "ExecuteTime": {
     "end_time": "2021-12-22T14:08:27.375201Z",
     "start_time": "2021-12-22T14:08:27.371601Z"
    }
   },
   "outputs": [
    {
     "data": {
      "text/plain": [
       "[1, 2, 3]"
      ]
     },
     "execution_count": 37,
     "metadata": {},
     "output_type": "execute_result"
    }
   ],
   "source": [
    "list(range(1,n_top+1))"
   ]
  },
  {
   "cell_type": "code",
   "execution_count": 18,
   "id": "dbe196a0",
   "metadata": {
    "ExecuteTime": {
     "end_time": "2021-12-22T13:53:11.102932Z",
     "start_time": "2021-12-22T13:53:11.046311Z"
    }
   },
   "outputs": [
    {
     "data": {
      "text/html": [
       "<div>\n",
       "<style scoped>\n",
       "    .dataframe tbody tr th:only-of-type {\n",
       "        vertical-align: middle;\n",
       "    }\n",
       "\n",
       "    .dataframe tbody tr th {\n",
       "        vertical-align: top;\n",
       "    }\n",
       "\n",
       "    .dataframe thead th {\n",
       "        text-align: right;\n",
       "    }\n",
       "</style>\n",
       "<table border=\"1\" class=\"dataframe\">\n",
       "  <thead>\n",
       "    <tr style=\"text-align: right;\">\n",
       "      <th></th>\n",
       "      <th>GraphSIF_BUs</th>\n",
       "      <th>Month</th>\n",
       "      <th>Is_anomolous</th>\n",
       "      <th>top_feature_1</th>\n",
       "      <th>top_feature_2</th>\n",
       "      <th>top_feature_3</th>\n",
       "      <th>top_feature_4</th>\n",
       "      <th>top_feature_5</th>\n",
       "      <th>Hist_average_1</th>\n",
       "      <th>Hist_average_2</th>\n",
       "      <th>Hist_average_3</th>\n",
       "      <th>Hist_average_4</th>\n",
       "      <th>Hist_average_5</th>\n",
       "      <th>Test_hstgm_1</th>\n",
       "      <th>Test_hstgm_2</th>\n",
       "      <th>Test_hstgm_3</th>\n",
       "      <th>Test_hstgm_4</th>\n",
       "      <th>Test_hstgm_5</th>\n",
       "    </tr>\n",
       "  </thead>\n",
       "  <tbody>\n",
       "    <tr>\n",
       "      <th>0</th>\n",
       "      <td>Bu_Monthly_0_10</td>\n",
       "      <td>2021_6</td>\n",
       "      <td>0.0</td>\n",
       "      <td>1_2_1_Total_Amt</td>\n",
       "      <td>1_1_1_Total_Amt</td>\n",
       "      <td>1_1_1_Pattern_Count</td>\n",
       "      <td>1_1_3_Total_Amt</td>\n",
       "      <td>2_1_1_Total_Amt</td>\n",
       "      <td>4.858343e+03</td>\n",
       "      <td>2.747677e+07</td>\n",
       "      <td>38.375000</td>\n",
       "      <td>286017.250000</td>\n",
       "      <td>188046.050995</td>\n",
       "      <td>1.054517e+05</td>\n",
       "      <td>7.181902e+07</td>\n",
       "      <td>25.00000</td>\n",
       "      <td>0.0</td>\n",
       "      <td>1500.0</td>\n",
       "    </tr>\n",
       "    <tr>\n",
       "      <th>1</th>\n",
       "      <td>Bu_Monthly_20_30</td>\n",
       "      <td>2021_6</td>\n",
       "      <td>0.0</td>\n",
       "      <td>1_2_1_Pattern_Count</td>\n",
       "      <td>1_1_2_Pattern_Count</td>\n",
       "      <td>1_1_1_Pattern_Count</td>\n",
       "      <td>1_4_1_Pattern_Count</td>\n",
       "      <td>1_1_2_Total_Amt</td>\n",
       "      <td>3.333333e+00</td>\n",
       "      <td>1.458333e+00</td>\n",
       "      <td>149.000000</td>\n",
       "      <td>0.500000</td>\n",
       "      <td>16647.963526</td>\n",
       "      <td>0.000000e+00</td>\n",
       "      <td>0.000000e+00</td>\n",
       "      <td>123.00000</td>\n",
       "      <td>0.0</td>\n",
       "      <td>0.0</td>\n",
       "    </tr>\n",
       "    <tr>\n",
       "      <th>2</th>\n",
       "      <td>10028</td>\n",
       "      <td>2021_6</td>\n",
       "      <td>0.0</td>\n",
       "      <td>1_1_1_Total_Amt</td>\n",
       "      <td>1_1_1_Pattern_Count</td>\n",
       "      <td>2_1_1_Total_Amt</td>\n",
       "      <td>2_1_1_Pattern_Count</td>\n",
       "      <td>1_6_1_Total_Amt</td>\n",
       "      <td>4.324272e+06</td>\n",
       "      <td>4.429167e+01</td>\n",
       "      <td>671833.200414</td>\n",
       "      <td>3.625000</td>\n",
       "      <td>0.000000</td>\n",
       "      <td>2.830424e+06</td>\n",
       "      <td>5.000000e+00</td>\n",
       "      <td>0.00000</td>\n",
       "      <td>0.0</td>\n",
       "      <td>0.0</td>\n",
       "    </tr>\n",
       "    <tr>\n",
       "      <th>3</th>\n",
       "      <td>10100</td>\n",
       "      <td>2021_6</td>\n",
       "      <td>0.0</td>\n",
       "      <td>1_1_1_Pattern_Count</td>\n",
       "      <td>1_1_1_Total_Amt</td>\n",
       "      <td>1_2_1_Total_Amt</td>\n",
       "      <td>1_2_1_Pattern_Count</td>\n",
       "      <td>1_7_1_Total_Amt</td>\n",
       "      <td>1.570833e+01</td>\n",
       "      <td>9.668485e+04</td>\n",
       "      <td>175.563751</td>\n",
       "      <td>0.041667</td>\n",
       "      <td>0.000000</td>\n",
       "      <td>2.200000e+01</td>\n",
       "      <td>1.140626e+05</td>\n",
       "      <td>0.00000</td>\n",
       "      <td>0.0</td>\n",
       "      <td>0.0</td>\n",
       "    </tr>\n",
       "    <tr>\n",
       "      <th>4</th>\n",
       "      <td>USBFA</td>\n",
       "      <td>2021_6</td>\n",
       "      <td>0.0</td>\n",
       "      <td>1_2_1_Total_Amt</td>\n",
       "      <td>1_2_1_Pattern_Count</td>\n",
       "      <td>1_1_1_Total_Amt</td>\n",
       "      <td>1_1_1_Pattern_Count</td>\n",
       "      <td>1_1_2_Pattern_Count</td>\n",
       "      <td>8.268792e+02</td>\n",
       "      <td>1.666667e-01</td>\n",
       "      <td>140854.378731</td>\n",
       "      <td>31.041667</td>\n",
       "      <td>2.416667</td>\n",
       "      <td>8.604990e+03</td>\n",
       "      <td>1.000000e+00</td>\n",
       "      <td>73148.89035</td>\n",
       "      <td>29.0</td>\n",
       "      <td>2.0</td>\n",
       "    </tr>\n",
       "  </tbody>\n",
       "</table>\n",
       "</div>"
      ],
      "text/plain": [
       "       GraphSIF_BUs   Month  Is_anomolous        top_feature_1  \\\n",
       "0   Bu_Monthly_0_10  2021_6           0.0      1_2_1_Total_Amt   \n",
       "1  Bu_Monthly_20_30  2021_6           0.0  1_2_1_Pattern_Count   \n",
       "2             10028  2021_6           0.0      1_1_1_Total_Amt   \n",
       "3             10100  2021_6           0.0  1_1_1_Pattern_Count   \n",
       "4             USBFA  2021_6           0.0      1_2_1_Total_Amt   \n",
       "\n",
       "         top_feature_2        top_feature_3        top_feature_4  \\\n",
       "0      1_1_1_Total_Amt  1_1_1_Pattern_Count      1_1_3_Total_Amt   \n",
       "1  1_1_2_Pattern_Count  1_1_1_Pattern_Count  1_4_1_Pattern_Count   \n",
       "2  1_1_1_Pattern_Count      2_1_1_Total_Amt  2_1_1_Pattern_Count   \n",
       "3      1_1_1_Total_Amt      1_2_1_Total_Amt  1_2_1_Pattern_Count   \n",
       "4  1_2_1_Pattern_Count      1_1_1_Total_Amt  1_1_1_Pattern_Count   \n",
       "\n",
       "         top_feature_5  Hist_average_1  Hist_average_2  Hist_average_3  \\\n",
       "0      2_1_1_Total_Amt    4.858343e+03    2.747677e+07       38.375000   \n",
       "1      1_1_2_Total_Amt    3.333333e+00    1.458333e+00      149.000000   \n",
       "2      1_6_1_Total_Amt    4.324272e+06    4.429167e+01   671833.200414   \n",
       "3      1_7_1_Total_Amt    1.570833e+01    9.668485e+04      175.563751   \n",
       "4  1_1_2_Pattern_Count    8.268792e+02    1.666667e-01   140854.378731   \n",
       "\n",
       "   Hist_average_4  Hist_average_5  Test_hstgm_1  Test_hstgm_2  Test_hstgm_3  \\\n",
       "0   286017.250000   188046.050995  1.054517e+05  7.181902e+07      25.00000   \n",
       "1        0.500000    16647.963526  0.000000e+00  0.000000e+00     123.00000   \n",
       "2        3.625000        0.000000  2.830424e+06  5.000000e+00       0.00000   \n",
       "3        0.041667        0.000000  2.200000e+01  1.140626e+05       0.00000   \n",
       "4       31.041667        2.416667  8.604990e+03  1.000000e+00   73148.89035   \n",
       "\n",
       "   Test_hstgm_4  Test_hstgm_5  \n",
       "0           0.0        1500.0  \n",
       "1           0.0           0.0  \n",
       "2           0.0           0.0  \n",
       "3           0.0           0.0  \n",
       "4          29.0           2.0  "
      ]
     },
     "execution_count": 18,
     "metadata": {},
     "output_type": "execute_result"
    }
   ],
   "source": [
    "graphSIF_df.head()"
   ]
  },
  {
   "cell_type": "code",
   "execution_count": 62,
   "id": "53f43bd0",
   "metadata": {
    "ExecuteTime": {
     "end_time": "2021-12-22T15:03:33.272195Z",
     "start_time": "2021-12-22T15:03:33.269692Z"
    }
   },
   "outputs": [],
   "source": [
    "month = '2021_4'\n",
    "BU = '10028'\n",
    "Is_anomolous = 0\n",
    "\n",
    "feat_labels = {'Pattern_Count':\"transaction volume\",\n",
    "               'Total_Amt':\"total amount\"}"
   ]
  },
  {
   "cell_type": "code",
   "execution_count": 74,
   "id": "92af31d2",
   "metadata": {
    "ExecuteTime": {
     "end_time": "2021-12-22T15:10:46.954893Z",
     "start_time": "2021-12-22T15:10:46.951243Z"
    }
   },
   "outputs": [],
   "source": [
    "def get_GraphSIF_stats(BU,month):\n",
    "    graphSIF_sub = graphSIF_df[(graphSIF_df.Month == month) &\n",
    "                               (graphSIF_df.GraphSIF_BUs == BU)].squeeze()\n",
    "    \n",
    "    ## get top feature stats\n",
    "    top_feat_values = {graphSIF_sub[f'top_feature_{i}']:[graphSIF_sub[f'Hist_average_{i}'],graphSIF_sub[f'Test_hstgm_{i}']]  for i in range(1,n_top+1)}\n",
    "\n",
    "    stats_text = f'Changes observed in the top 3 features for test month (histogram) compared to historical 24 month average for BU {BU} in {month} month'\n",
    "    for key, value in top_feat_values.items():\n",
    "        feat, avg, test_hist = key, round(value[0],2), round(value[1],2)\n",
    "        feat_split = feat.split('_')\n",
    "        n_acc,n_add,n_ven, feat_key = feat_split[0],feat_split[1],feat_split[2],'_'.join(feat_split[3:])\n",
    "        prct_chng = (test_hist-avg)/avg*100\n",
    "        stats_text += f\"\\n {feat}: {str(abs(round(prct_chng,2)))}% {'decrease' if prct_chng < 0 else 'increase'} with respect to past 24 months average ({avg}) in the {feat_labels[feat_key]} with the pattern where {n_ven} vendor connected has {n_add} addresses and is transacting under {n_acc} accounts. current month {feat_labels[feat_key]} is {test_hist}\"\n",
    "    return stats_text"
   ]
  },
  {
   "cell_type": "code",
   "execution_count": 76,
   "id": "a33a7379",
   "metadata": {
    "ExecuteTime": {
     "end_time": "2021-12-22T15:12:44.352076Z",
     "start_time": "2021-12-22T15:12:44.349107Z"
    }
   },
   "outputs": [
    {
     "data": {
      "text/plain": [
       "(34555, 216)"
      ]
     },
     "execution_count": 76,
     "metadata": {},
     "output_type": "execute_result"
    }
   ],
   "source": [
    "fraud_df"
   ]
  },
  {
   "cell_type": "code",
   "execution_count": 23,
   "id": "c4fe78c1",
   "metadata": {
    "ExecuteTime": {
     "end_time": "2021-12-23T06:51:58.764097Z",
     "start_time": "2021-12-23T06:51:58.761828Z"
    }
   },
   "outputs": [],
   "source": [
    "month = '2021_4'\n",
    "BU = '10028'"
   ]
  },
  {
   "cell_type": "code",
   "execution_count": null,
   "id": "f93c0600",
   "metadata": {},
   "outputs": [],
   "source": [
    "fraud_df_sub = fraud_df[(fraud_df.Month = month) & (flags_df.GraphSIF_BUs == BU)]\n",
    "Flag_cols = ['BU_Is_Multi_VendorAddress',\n",
    "             'BU_Is_Multi_AccCat',\n",
    "             'BU_Is_Address_MultiVendor']"
   ]
  },
  {
   "cell_type": "code",
   "execution_count": 8,
   "id": "dfd5b6e8",
   "metadata": {
    "ExecuteTime": {
     "end_time": "2021-12-23T06:09:39.538896Z",
     "start_time": "2021-12-23T06:09:39.534877Z"
    }
   },
   "outputs": [
    {
     "data": {
      "text/plain": [
       "'10008'"
      ]
     },
     "execution_count": 8,
     "metadata": {},
     "output_type": "execute_result"
    }
   ],
   "source": [
    "# BUs to be displayed in the dropdown menu\n",
    "BUs = graphSIF_df['GraphSIF_BUs'].unique()\n",
    "BUs.sort()\n",
    "BU_options = [{'label': i, 'value': i} for i in BUs]\n",
    "BUs[0]"
   ]
  },
  {
   "cell_type": "code",
   "execution_count": null,
   "id": "76739df9",
   "metadata": {},
   "outputs": [],
   "source": [
    "layout = html.Div([\n",
    "    dbc.Container([\n",
    "        dbc.Row([html.H3(children='GraphSIF Analysis')]),\n",
    "        dbc.Row([\n",
    "            dbc.Col([\n",
    "                html.Div([html.Label('Select Month'),\n",
    "                          dcc.Dropdown(id='select-month',\n",
    "                                       options=Month_options,\n",
    "                                       value=Mnths[0],\n",
    "                                       clearable=False),\n",
    "                          dcc.Graph(id='monthly-bu-flags')])\n",
    "            ], id='top-vendors', width=3),\n",
    "            dbc.Col([\n",
    "                html.Div([\n",
    "                    dbc.Row([\n",
    "                        html.Div([\n",
    "                            html.Label('Select BU'),\n",
    "                            dcc.Dropdown(\n",
    "                                id='select-BU',\n",
    "                                options=BU_options,\n",
    "                                value=BUs[0],\n",
    "                                clearable=False)],\n",
    "                            style={'paddingLeft': '15px',\n",
    "                                   'paddingRight': '15px'}),\n",
    "                        html.Div([\n",
    "                            html.Label('Is Anomalous'),\n",
    "                            dcc.Dropdown(\n",
    "                                id='is-anomalous',\n",
    "                                options=Anom_options,\n",
    "                                value=0,\n",
    "                                clearable=False)])\n",
    "                    ]),\n",
    "                    dbc.Row([html.H6(id='graph-sif-writeup',\n",
    "                                     style={\"margin-top\": \"5px\"})])\n",
    "                ], style={\"margin-left\": \"45px\"})\n",
    "            ])\n",
    "        ])\n",
    "    ])\n",
    "])"
   ]
  },
  {
   "cell_type": "code",
   "execution_count": null,
   "id": "aa1c38a2",
   "metadata": {},
   "outputs": [],
   "source": [
    "@app.callback(\n",
    "    Output('graph-sif-writeup', 'children'),\n",
    "    Input('select-BU', 'value'),\n",
    "    State('select-month', 'value'))\n",
    "def display_GraphSIF_stats(BU,month):\n",
    "    return get_GraphSIF_stats(BU,month)"
   ]
  },
  {
   "cell_type": "code",
   "execution_count": null,
   "id": "204123ca",
   "metadata": {},
   "outputs": [],
   "source": [
    "@app.callback(\n",
    "    Output('select-BU', 'options'),\n",
    "    Output('select-BU', 'value'),\n",
    "    Input('is-anomalous', 'value'),\n",
    "    State('select-month', 'value'))\n",
    "def update_bu_option(is_anomulus, month):\n",
    "    BU_list = (graphSIF_df[(graphSIF_df.Is_anomolous == is_anomulus) & \n",
    "                           (graphSIF_df.Month == month)]\n",
    "               .GraphSIF_BUs.values)\n",
    "    BU_list.sort()\n",
    "    return [{'label': BU, 'value': BU} for BU in BU_list],BU_list[0]"
   ]
  },
  {
   "cell_type": "code",
   "execution_count": 10,
   "id": "cb45e186",
   "metadata": {
    "ExecuteTime": {
     "end_time": "2021-12-23T06:32:40.415623Z",
     "start_time": "2021-12-23T06:32:40.396558Z"
    }
   },
   "outputs": [
    {
     "data": {
      "text/html": [
       "<div>\n",
       "<style scoped>\n",
       "    .dataframe tbody tr th:only-of-type {\n",
       "        vertical-align: middle;\n",
       "    }\n",
       "\n",
       "    .dataframe tbody tr th {\n",
       "        vertical-align: top;\n",
       "    }\n",
       "\n",
       "    .dataframe thead th {\n",
       "        text-align: right;\n",
       "    }\n",
       "</style>\n",
       "<table border=\"1\" class=\"dataframe\">\n",
       "  <thead>\n",
       "    <tr style=\"text-align: right;\">\n",
       "      <th></th>\n",
       "      <th>GraphSIF_BUs</th>\n",
       "      <th>Month</th>\n",
       "      <th>Is_anomolous</th>\n",
       "      <th>top_feature_1</th>\n",
       "      <th>top_feature_2</th>\n",
       "      <th>top_feature_3</th>\n",
       "      <th>top_feature_4</th>\n",
       "      <th>top_feature_5</th>\n",
       "      <th>Hist_average_1</th>\n",
       "      <th>Hist_average_2</th>\n",
       "      <th>Hist_average_3</th>\n",
       "      <th>Hist_average_4</th>\n",
       "      <th>Hist_average_5</th>\n",
       "      <th>Test_hstgm_1</th>\n",
       "      <th>Test_hstgm_2</th>\n",
       "      <th>Test_hstgm_3</th>\n",
       "      <th>Test_hstgm_4</th>\n",
       "      <th>Test_hstgm_5</th>\n",
       "    </tr>\n",
       "  </thead>\n",
       "  <tbody>\n",
       "    <tr>\n",
       "      <th>8</th>\n",
       "      <td>10008</td>\n",
       "      <td>2021_1</td>\n",
       "      <td>0.0</td>\n",
       "      <td>2_2_1_Total_Amt</td>\n",
       "      <td>4_6_1_Pattern_Count</td>\n",
       "      <td>1_1_2_Pattern_Count</td>\n",
       "      <td>2_2_1_Pattern_Count</td>\n",
       "      <td>2_5_2_Pattern_Count</td>\n",
       "      <td>8.181376e+06</td>\n",
       "      <td>0.083333</td>\n",
       "      <td>1.816667e+01</td>\n",
       "      <td>11.791667</td>\n",
       "      <td>2.500000e-01</td>\n",
       "      <td>3.895896e+07</td>\n",
       "      <td>1.0</td>\n",
       "      <td>9.000000e+00</td>\n",
       "      <td>19.000000</td>\n",
       "      <td>1.000000</td>\n",
       "    </tr>\n",
       "    <tr>\n",
       "      <th>13</th>\n",
       "      <td>10118</td>\n",
       "      <td>2021_3</td>\n",
       "      <td>0.0</td>\n",
       "      <td>1_1_1_Total_Amt</td>\n",
       "      <td>1_1_3_Total_Amt</td>\n",
       "      <td>1_2_1_Pattern_Count</td>\n",
       "      <td>1_2_1_Total_Amt</td>\n",
       "      <td>1_1_1_Pattern_Count</td>\n",
       "      <td>7.457953e+06</td>\n",
       "      <td>479882.375458</td>\n",
       "      <td>8.333333e-01</td>\n",
       "      <td>551410.289131</td>\n",
       "      <td>1.187500e+01</td>\n",
       "      <td>1.924261e+07</td>\n",
       "      <td>266250.0</td>\n",
       "      <td>1.000000e+00</td>\n",
       "      <td>590269.675903</td>\n",
       "      <td>14.000000</td>\n",
       "    </tr>\n",
       "    <tr>\n",
       "      <th>0</th>\n",
       "      <td>USBFJ</td>\n",
       "      <td>2021_5</td>\n",
       "      <td>0.0</td>\n",
       "      <td>1_1_2_Total_Amt</td>\n",
       "      <td>1_1_2_Pattern_Count</td>\n",
       "      <td>1_1_1_Pattern_Count</td>\n",
       "      <td>1_2_1_Total_Amt</td>\n",
       "      <td>1_1_1_Total_Amt</td>\n",
       "      <td>0.000000e+00</td>\n",
       "      <td>0.000000</td>\n",
       "      <td>2.829167e+01</td>\n",
       "      <td>1278.370827</td>\n",
       "      <td>1.083497e+05</td>\n",
       "      <td>8.538390e+03</td>\n",
       "      <td>4.0</td>\n",
       "      <td>6.100000e+01</td>\n",
       "      <td>8277.510010</td>\n",
       "      <td>181570.399323</td>\n",
       "    </tr>\n",
       "    <tr>\n",
       "      <th>8</th>\n",
       "      <td>CAGCA</td>\n",
       "      <td>2021_6</td>\n",
       "      <td>0.0</td>\n",
       "      <td>1_1_2_Pattern_Count</td>\n",
       "      <td>1_2_1_Pattern_Count</td>\n",
       "      <td>2_2_1_Pattern_Count</td>\n",
       "      <td>2_1_2_Pattern_Count</td>\n",
       "      <td>2_1_1_Pattern_Count</td>\n",
       "      <td>2.916667e+00</td>\n",
       "      <td>1.375000</td>\n",
       "      <td>3.750000e-01</td>\n",
       "      <td>0.500000</td>\n",
       "      <td>1.208333e+00</td>\n",
       "      <td>9.000000e+00</td>\n",
       "      <td>0.0</td>\n",
       "      <td>1.000000e+00</td>\n",
       "      <td>1.000000</td>\n",
       "      <td>0.000000</td>\n",
       "    </tr>\n",
       "    <tr>\n",
       "      <th>8</th>\n",
       "      <td>70012</td>\n",
       "      <td>2021_4</td>\n",
       "      <td>0.0</td>\n",
       "      <td>2_1_1_Pattern_Count</td>\n",
       "      <td>2_3_1_Pattern_Count</td>\n",
       "      <td>1_1_1_Total_Amt</td>\n",
       "      <td>1_1_2_Pattern_Count</td>\n",
       "      <td>2_1_1_Total_Amt</td>\n",
       "      <td>5.083333e+00</td>\n",
       "      <td>0.083333</td>\n",
       "      <td>2.499954e+07</td>\n",
       "      <td>3.041667</td>\n",
       "      <td>1.375964e+06</td>\n",
       "      <td>1.600000e+01</td>\n",
       "      <td>1.0</td>\n",
       "      <td>1.673729e+07</td>\n",
       "      <td>6.000000</td>\n",
       "      <td>335905.439087</td>\n",
       "    </tr>\n",
       "  </tbody>\n",
       "</table>\n",
       "</div>"
      ],
      "text/plain": [
       "   GraphSIF_BUs   Month  Is_anomolous        top_feature_1  \\\n",
       "8         10008  2021_1           0.0      2_2_1_Total_Amt   \n",
       "13        10118  2021_3           0.0      1_1_1_Total_Amt   \n",
       "0         USBFJ  2021_5           0.0      1_1_2_Total_Amt   \n",
       "8         CAGCA  2021_6           0.0  1_1_2_Pattern_Count   \n",
       "8         70012  2021_4           0.0  2_1_1_Pattern_Count   \n",
       "\n",
       "          top_feature_2        top_feature_3        top_feature_4  \\\n",
       "8   4_6_1_Pattern_Count  1_1_2_Pattern_Count  2_2_1_Pattern_Count   \n",
       "13      1_1_3_Total_Amt  1_2_1_Pattern_Count      1_2_1_Total_Amt   \n",
       "0   1_1_2_Pattern_Count  1_1_1_Pattern_Count      1_2_1_Total_Amt   \n",
       "8   1_2_1_Pattern_Count  2_2_1_Pattern_Count  2_1_2_Pattern_Count   \n",
       "8   2_3_1_Pattern_Count      1_1_1_Total_Amt  1_1_2_Pattern_Count   \n",
       "\n",
       "          top_feature_5  Hist_average_1  Hist_average_2  Hist_average_3  \\\n",
       "8   2_5_2_Pattern_Count    8.181376e+06        0.083333    1.816667e+01   \n",
       "13  1_1_1_Pattern_Count    7.457953e+06   479882.375458    8.333333e-01   \n",
       "0       1_1_1_Total_Amt    0.000000e+00        0.000000    2.829167e+01   \n",
       "8   2_1_1_Pattern_Count    2.916667e+00        1.375000    3.750000e-01   \n",
       "8       2_1_1_Total_Amt    5.083333e+00        0.083333    2.499954e+07   \n",
       "\n",
       "    Hist_average_4  Hist_average_5  Test_hstgm_1  Test_hstgm_2  Test_hstgm_3  \\\n",
       "8        11.791667    2.500000e-01  3.895896e+07           1.0  9.000000e+00   \n",
       "13   551410.289131    1.187500e+01  1.924261e+07      266250.0  1.000000e+00   \n",
       "0      1278.370827    1.083497e+05  8.538390e+03           4.0  6.100000e+01   \n",
       "8         0.500000    1.208333e+00  9.000000e+00           0.0  1.000000e+00   \n",
       "8         3.041667    1.375964e+06  1.600000e+01           1.0  1.673729e+07   \n",
       "\n",
       "     Test_hstgm_4   Test_hstgm_5  \n",
       "8       19.000000       1.000000  \n",
       "13  590269.675903      14.000000  \n",
       "0     8277.510010  181570.399323  \n",
       "8        1.000000       0.000000  \n",
       "8        6.000000  335905.439087  "
      ]
     },
     "execution_count": 10,
     "metadata": {},
     "output_type": "execute_result"
    }
   ],
   "source": [
    "graphSIF_df.sample(5)"
   ]
  },
  {
   "cell_type": "code",
   "execution_count": null,
   "id": "e29cb773",
   "metadata": {},
   "outputs": [],
   "source": [
    "@app.callback(\n",
    "    Output('is-anomalous', 'value'),\n",
    "    Input('select-month', 'value'))\n",
    "def update_anom_value(month):\n",
    "    return 0"
   ]
  },
  {
   "cell_type": "code",
   "execution_count": null,
   "id": "5f3384fd",
   "metadata": {},
   "outputs": [],
   "source": [
    "@ app.callback(\n",
    "    Output('monthly-bu-flags', 'figure'),\n",
    "    Input('select-BU', 'value'),\n",
    "    State('start-month', 'value'))\n",
    "def create_monthly_flags_chart(BU, month):\n",
    "    return monthly_flags_chart(BU, month)"
   ]
  },
  {
   "cell_type": "code",
   "execution_count": null,
   "id": "d30f5ad9",
   "metadata": {},
   "outputs": [],
   "source": [
    "\n",
    "def Flag_prop_plot(BU, start, end):\n",
    "    if BU != 'ALL':\n",
    "        flags_df_sub = flags_df[(flags_df.BUSINESS_UNIT == BU) &\n",
    "                                (flags_df.Month >= start) &\n",
    "                                (flags_df.Month <= end)]\n",
    "    else:\n",
    "        flags_df_sub = flags_df[(flags_df.Month >= start) &\n",
    "                                (flags_df.Month <= end)]\n",
    "\n",
    "    flags_prop = flags_df_sub[Flag_cols].sum()\n",
    "\n",
    "    flags_prop_df = flags_prop.to_frame().reset_index()\n",
    "    flags_prop_df.columns = ['flag_label', 'count']\n",
    "    flags_prop_df['count'] = flags_prop_df['count']\n",
    "    flags_prop_df = flags_prop_df.round(2)\n",
    "    flags_prop_df['label_name'] = flags_prop_df.flag_label.replace(\n",
    "        flag_lab2name)\n",
    "\n",
    "    fig = px.bar(flags_prop_df, y='count', x='label_name',\n",
    "                 labels={'label_name': 'Scenario',\n",
    "                         'count': 'Transaction count'},\n",
    "                 color='label_name',\n",
    "                 color_discrete_map=color_dict)\n",
    "\n",
    "    fig.update_layout(transition_duration=500,\n",
    "                      title=None,\n",
    "                      autosize=True,\n",
    "                      xaxis=dict(visible=False, showgrid=False,\n",
    "                                 zeroline=False, showticklabels=False),\n",
    "                      margin=dict(t=20, l=30, r=0, b=0),\n",
    "                      width=1250)\n",
    "    return fig"
   ]
  },
  {
   "cell_type": "code",
   "execution_count": null,
   "id": "b2f2e705",
   "metadata": {},
   "outputs": [],
   "source": [
    "[col for col in fraud_df.columns .]"
   ]
  },
  {
   "cell_type": "code",
   "execution_count": 78,
   "id": "2e25fb1e",
   "metadata": {
    "ExecuteTime": {
     "end_time": "2021-12-23T16:48:42.636579Z",
     "start_time": "2021-12-23T16:48:42.632561Z"
    }
   },
   "outputs": [],
   "source": [
    "Flag_cols = ['BU_Is_Multi_VendorAddress',\n",
    "             'BU_Is_Multi_AccCat',\n",
    "             'BU_Is_Address_MultiVendor']\n",
    "\n",
    "BU = '10008'\n",
    "\n",
    "flag_lab2name = {'BU_Is_Multi_VendorAddress': 'Transaction Volume where vendor is connected to Multiple Addresses under same BU in a month',\n",
    "                 'BU_Is_Multi_AccCat': 'Transaction Volume where Vendor is connected to Multiple Accounts under same BU in a month',\n",
    "                 'BU_Is_Address_MultiVendor': 'Transaction Volume where Address is connected to Multiple vendors under same BU in a month'}\n",
    "\n",
    "colorlist = ['#636EFA',\n",
    "             '#EF553B',\n",
    "             '#00CC96']\n",
    "             \n",
    "color_dict = {x: y for x, y in zip(flag_lab2name.values(), colorlist)}\n",
    "\n",
    "import plotly.express as px\n"
   ]
  },
  {
   "cell_type": "code",
   "execution_count": null,
   "id": "93147dff",
   "metadata": {},
   "outputs": [],
   "source": [
    "def get_GraphSIF_stats(BU, month):\n",
    "    graphSIF_sub = graphSIF_df[(graphSIF_df.Month == month) &\n",
    "                               (graphSIF_df.GraphSIF_BUs == BU)].squeeze()\n",
    "\n",
    "    # get top feature stats\n",
    "    top_feat_values = {graphSIF_sub[f'top_feature_{i}']: [\n",
    "        graphSIF_sub[f'Hist_average_{i}'], graphSIF_sub[f'Test_hstgm_{i}']] for i in range(1, n_top+1)}\n",
    "\n",
    "    stats_list = [f'Changes observed in the top 3 features for test month (histogram) compared to historical 24 month average for BU {BU} in {month} month']\n",
    "    for key, value in top_feat_values.items():\n",
    "        feat, avg, test_hist = key, round(value[0], 2), round(value[1], 2)\n",
    "        feat_split = feat.split('_')\n",
    "        n_acc, n_add, n_ven, feat_key = feat_split[0], feat_split[1], feat_split[2], '_'.join(\n",
    "            feat_split[3:])\n",
    "        prct_chng = (test_hist-avg)/avg*100\n",
    "        stats_list.append(html.Br())\n",
    "        stats_list.append(f\"{feat}: {str(abs(round(prct_chng,2)))}% {'decrease' if prct_chng < 0 else 'increase'} with respect to past 24 months average ({avg}) in the {feat_labels[feat_key]} with the pattern where {n_ven} vendor connected has {n_add} addresses and is transacting under {n_acc} accounts. current month {feat_labels[feat_key]} is {test_hist}\")\n",
    "    return stats_list"
   ]
  },
  {
   "cell_type": "code",
   "execution_count": 34,
   "id": "959da83b",
   "metadata": {
    "ExecuteTime": {
     "end_time": "2021-12-23T07:05:45.301398Z",
     "start_time": "2021-12-23T07:05:45.259381Z"
    }
   },
   "outputs": [],
   "source": [
    "(html.Div(html.P([f'Transaction volume increase for {Vendor} from {prev_quarter} to {quarter}: {prcnt}%',\n",
    "                             html.Br(),\n",
    "                             html.Br(),\n",
    "                             f'Transactions for vendor {Vendor} jumped from {prv_vol} in {prev_quarter} to {curr_vol} in {quarter}'])))"
   ]
  },
  {
   "cell_type": "code",
   "execution_count": 86,
   "id": "02e94045",
   "metadata": {
    "ExecuteTime": {
     "end_time": "2021-12-23T16:50:17.797672Z",
     "start_time": "2021-12-23T16:50:17.704385Z"
    }
   },
   "outputs": [
    {
     "data": {
      "application/vnd.plotly.v1+json": {
       "config": {
        "plotlyServerURL": "https://plot.ly"
       },
       "data": [
        {
         "alignmentgroup": "True",
         "hovertemplate": "BU flags=%{x}<br>Transaction count=%{y}<extra></extra>",
         "legendgroup": "Transaction Volume where vendor is connected to Multiple Addresses under same BU in a month",
         "marker": {
          "color": "#636EFA"
         },
         "name": "Transaction Volume where vendor is connected to Multiple Addresses under same BU in a month",
         "offsetgroup": "Transaction Volume where vendor is connected to Multiple Addresses under same BU in a month",
         "orientation": "v",
         "showlegend": true,
         "textposition": "auto",
         "type": "bar",
         "x": [
          "Transaction Volume where vendor is connected to Multiple Addresses under same BU in a month"
         ],
         "xaxis": "x",
         "y": [
          901
         ],
         "yaxis": "y"
        },
        {
         "alignmentgroup": "True",
         "hovertemplate": "BU flags=%{x}<br>Transaction count=%{y}<extra></extra>",
         "legendgroup": "Transaction Volume where Vendor is connected to Multiple Accounts under same BU in a month",
         "marker": {
          "color": "#EF553B"
         },
         "name": "Transaction Volume where Vendor is connected to Multiple Accounts under same BU in a month",
         "offsetgroup": "Transaction Volume where Vendor is connected to Multiple Accounts under same BU in a month",
         "orientation": "v",
         "showlegend": true,
         "textposition": "auto",
         "type": "bar",
         "x": [
          "Transaction Volume where Vendor is connected to Multiple Accounts under same BU in a month"
         ],
         "xaxis": "x",
         "y": [
          845
         ],
         "yaxis": "y"
        },
        {
         "alignmentgroup": "True",
         "hovertemplate": "BU flags=%{x}<br>Transaction count=%{y}<extra></extra>",
         "legendgroup": "Transaction Volume where Address is connected to Multiple vendors under same BU in a month",
         "marker": {
          "color": "#00CC96"
         },
         "name": "Transaction Volume where Address is connected to Multiple vendors under same BU in a month",
         "offsetgroup": "Transaction Volume where Address is connected to Multiple vendors under same BU in a month",
         "orientation": "v",
         "showlegend": true,
         "textposition": "auto",
         "type": "bar",
         "x": [
          "Transaction Volume where Address is connected to Multiple vendors under same BU in a month"
         ],
         "xaxis": "x",
         "y": [
          59
         ],
         "yaxis": "y"
        }
       ],
       "layout": {
        "autosize": true,
        "barmode": "relative",
        "legend": {
         "title": {
          "text": "BU flags"
         },
         "tracegroupgap": 0,
         "x": -0.1,
         "y": 1,
         "yanchor": "bottom"
        },
        "margin": {
         "b": 0,
         "l": 0,
         "r": 0,
         "t": 175
        },
        "template": {
         "data": {
          "bar": [
           {
            "error_x": {
             "color": "#2a3f5f"
            },
            "error_y": {
             "color": "#2a3f5f"
            },
            "marker": {
             "line": {
              "color": "#E5ECF6",
              "width": 0.5
             }
            },
            "type": "bar"
           }
          ],
          "barpolar": [
           {
            "marker": {
             "line": {
              "color": "#E5ECF6",
              "width": 0.5
             }
            },
            "type": "barpolar"
           }
          ],
          "carpet": [
           {
            "aaxis": {
             "endlinecolor": "#2a3f5f",
             "gridcolor": "white",
             "linecolor": "white",
             "minorgridcolor": "white",
             "startlinecolor": "#2a3f5f"
            },
            "baxis": {
             "endlinecolor": "#2a3f5f",
             "gridcolor": "white",
             "linecolor": "white",
             "minorgridcolor": "white",
             "startlinecolor": "#2a3f5f"
            },
            "type": "carpet"
           }
          ],
          "choropleth": [
           {
            "colorbar": {
             "outlinewidth": 0,
             "ticks": ""
            },
            "type": "choropleth"
           }
          ],
          "contour": [
           {
            "colorbar": {
             "outlinewidth": 0,
             "ticks": ""
            },
            "colorscale": [
             [
              0,
              "#0d0887"
             ],
             [
              0.1111111111111111,
              "#46039f"
             ],
             [
              0.2222222222222222,
              "#7201a8"
             ],
             [
              0.3333333333333333,
              "#9c179e"
             ],
             [
              0.4444444444444444,
              "#bd3786"
             ],
             [
              0.5555555555555556,
              "#d8576b"
             ],
             [
              0.6666666666666666,
              "#ed7953"
             ],
             [
              0.7777777777777778,
              "#fb9f3a"
             ],
             [
              0.8888888888888888,
              "#fdca26"
             ],
             [
              1,
              "#f0f921"
             ]
            ],
            "type": "contour"
           }
          ],
          "contourcarpet": [
           {
            "colorbar": {
             "outlinewidth": 0,
             "ticks": ""
            },
            "type": "contourcarpet"
           }
          ],
          "heatmap": [
           {
            "colorbar": {
             "outlinewidth": 0,
             "ticks": ""
            },
            "colorscale": [
             [
              0,
              "#0d0887"
             ],
             [
              0.1111111111111111,
              "#46039f"
             ],
             [
              0.2222222222222222,
              "#7201a8"
             ],
             [
              0.3333333333333333,
              "#9c179e"
             ],
             [
              0.4444444444444444,
              "#bd3786"
             ],
             [
              0.5555555555555556,
              "#d8576b"
             ],
             [
              0.6666666666666666,
              "#ed7953"
             ],
             [
              0.7777777777777778,
              "#fb9f3a"
             ],
             [
              0.8888888888888888,
              "#fdca26"
             ],
             [
              1,
              "#f0f921"
             ]
            ],
            "type": "heatmap"
           }
          ],
          "heatmapgl": [
           {
            "colorbar": {
             "outlinewidth": 0,
             "ticks": ""
            },
            "colorscale": [
             [
              0,
              "#0d0887"
             ],
             [
              0.1111111111111111,
              "#46039f"
             ],
             [
              0.2222222222222222,
              "#7201a8"
             ],
             [
              0.3333333333333333,
              "#9c179e"
             ],
             [
              0.4444444444444444,
              "#bd3786"
             ],
             [
              0.5555555555555556,
              "#d8576b"
             ],
             [
              0.6666666666666666,
              "#ed7953"
             ],
             [
              0.7777777777777778,
              "#fb9f3a"
             ],
             [
              0.8888888888888888,
              "#fdca26"
             ],
             [
              1,
              "#f0f921"
             ]
            ],
            "type": "heatmapgl"
           }
          ],
          "histogram": [
           {
            "marker": {
             "colorbar": {
              "outlinewidth": 0,
              "ticks": ""
             }
            },
            "type": "histogram"
           }
          ],
          "histogram2d": [
           {
            "colorbar": {
             "outlinewidth": 0,
             "ticks": ""
            },
            "colorscale": [
             [
              0,
              "#0d0887"
             ],
             [
              0.1111111111111111,
              "#46039f"
             ],
             [
              0.2222222222222222,
              "#7201a8"
             ],
             [
              0.3333333333333333,
              "#9c179e"
             ],
             [
              0.4444444444444444,
              "#bd3786"
             ],
             [
              0.5555555555555556,
              "#d8576b"
             ],
             [
              0.6666666666666666,
              "#ed7953"
             ],
             [
              0.7777777777777778,
              "#fb9f3a"
             ],
             [
              0.8888888888888888,
              "#fdca26"
             ],
             [
              1,
              "#f0f921"
             ]
            ],
            "type": "histogram2d"
           }
          ],
          "histogram2dcontour": [
           {
            "colorbar": {
             "outlinewidth": 0,
             "ticks": ""
            },
            "colorscale": [
             [
              0,
              "#0d0887"
             ],
             [
              0.1111111111111111,
              "#46039f"
             ],
             [
              0.2222222222222222,
              "#7201a8"
             ],
             [
              0.3333333333333333,
              "#9c179e"
             ],
             [
              0.4444444444444444,
              "#bd3786"
             ],
             [
              0.5555555555555556,
              "#d8576b"
             ],
             [
              0.6666666666666666,
              "#ed7953"
             ],
             [
              0.7777777777777778,
              "#fb9f3a"
             ],
             [
              0.8888888888888888,
              "#fdca26"
             ],
             [
              1,
              "#f0f921"
             ]
            ],
            "type": "histogram2dcontour"
           }
          ],
          "mesh3d": [
           {
            "colorbar": {
             "outlinewidth": 0,
             "ticks": ""
            },
            "type": "mesh3d"
           }
          ],
          "parcoords": [
           {
            "line": {
             "colorbar": {
              "outlinewidth": 0,
              "ticks": ""
             }
            },
            "type": "parcoords"
           }
          ],
          "pie": [
           {
            "automargin": true,
            "type": "pie"
           }
          ],
          "scatter": [
           {
            "marker": {
             "colorbar": {
              "outlinewidth": 0,
              "ticks": ""
             }
            },
            "type": "scatter"
           }
          ],
          "scatter3d": [
           {
            "line": {
             "colorbar": {
              "outlinewidth": 0,
              "ticks": ""
             }
            },
            "marker": {
             "colorbar": {
              "outlinewidth": 0,
              "ticks": ""
             }
            },
            "type": "scatter3d"
           }
          ],
          "scattercarpet": [
           {
            "marker": {
             "colorbar": {
              "outlinewidth": 0,
              "ticks": ""
             }
            },
            "type": "scattercarpet"
           }
          ],
          "scattergeo": [
           {
            "marker": {
             "colorbar": {
              "outlinewidth": 0,
              "ticks": ""
             }
            },
            "type": "scattergeo"
           }
          ],
          "scattergl": [
           {
            "marker": {
             "colorbar": {
              "outlinewidth": 0,
              "ticks": ""
             }
            },
            "type": "scattergl"
           }
          ],
          "scattermapbox": [
           {
            "marker": {
             "colorbar": {
              "outlinewidth": 0,
              "ticks": ""
             }
            },
            "type": "scattermapbox"
           }
          ],
          "scatterpolar": [
           {
            "marker": {
             "colorbar": {
              "outlinewidth": 0,
              "ticks": ""
             }
            },
            "type": "scatterpolar"
           }
          ],
          "scatterpolargl": [
           {
            "marker": {
             "colorbar": {
              "outlinewidth": 0,
              "ticks": ""
             }
            },
            "type": "scatterpolargl"
           }
          ],
          "scatterternary": [
           {
            "marker": {
             "colorbar": {
              "outlinewidth": 0,
              "ticks": ""
             }
            },
            "type": "scatterternary"
           }
          ],
          "surface": [
           {
            "colorbar": {
             "outlinewidth": 0,
             "ticks": ""
            },
            "colorscale": [
             [
              0,
              "#0d0887"
             ],
             [
              0.1111111111111111,
              "#46039f"
             ],
             [
              0.2222222222222222,
              "#7201a8"
             ],
             [
              0.3333333333333333,
              "#9c179e"
             ],
             [
              0.4444444444444444,
              "#bd3786"
             ],
             [
              0.5555555555555556,
              "#d8576b"
             ],
             [
              0.6666666666666666,
              "#ed7953"
             ],
             [
              0.7777777777777778,
              "#fb9f3a"
             ],
             [
              0.8888888888888888,
              "#fdca26"
             ],
             [
              1,
              "#f0f921"
             ]
            ],
            "type": "surface"
           }
          ],
          "table": [
           {
            "cells": {
             "fill": {
              "color": "#EBF0F8"
             },
             "line": {
              "color": "white"
             }
            },
            "header": {
             "fill": {
              "color": "#C8D4E3"
             },
             "line": {
              "color": "white"
             }
            },
            "type": "table"
           }
          ]
         },
         "layout": {
          "annotationdefaults": {
           "arrowcolor": "#2a3f5f",
           "arrowhead": 0,
           "arrowwidth": 1
          },
          "autotypenumbers": "strict",
          "coloraxis": {
           "colorbar": {
            "outlinewidth": 0,
            "ticks": ""
           }
          },
          "colorscale": {
           "diverging": [
            [
             0,
             "#8e0152"
            ],
            [
             0.1,
             "#c51b7d"
            ],
            [
             0.2,
             "#de77ae"
            ],
            [
             0.3,
             "#f1b6da"
            ],
            [
             0.4,
             "#fde0ef"
            ],
            [
             0.5,
             "#f7f7f7"
            ],
            [
             0.6,
             "#e6f5d0"
            ],
            [
             0.7,
             "#b8e186"
            ],
            [
             0.8,
             "#7fbc41"
            ],
            [
             0.9,
             "#4d9221"
            ],
            [
             1,
             "#276419"
            ]
           ],
           "sequential": [
            [
             0,
             "#0d0887"
            ],
            [
             0.1111111111111111,
             "#46039f"
            ],
            [
             0.2222222222222222,
             "#7201a8"
            ],
            [
             0.3333333333333333,
             "#9c179e"
            ],
            [
             0.4444444444444444,
             "#bd3786"
            ],
            [
             0.5555555555555556,
             "#d8576b"
            ],
            [
             0.6666666666666666,
             "#ed7953"
            ],
            [
             0.7777777777777778,
             "#fb9f3a"
            ],
            [
             0.8888888888888888,
             "#fdca26"
            ],
            [
             1,
             "#f0f921"
            ]
           ],
           "sequentialminus": [
            [
             0,
             "#0d0887"
            ],
            [
             0.1111111111111111,
             "#46039f"
            ],
            [
             0.2222222222222222,
             "#7201a8"
            ],
            [
             0.3333333333333333,
             "#9c179e"
            ],
            [
             0.4444444444444444,
             "#bd3786"
            ],
            [
             0.5555555555555556,
             "#d8576b"
            ],
            [
             0.6666666666666666,
             "#ed7953"
            ],
            [
             0.7777777777777778,
             "#fb9f3a"
            ],
            [
             0.8888888888888888,
             "#fdca26"
            ],
            [
             1,
             "#f0f921"
            ]
           ]
          },
          "colorway": [
           "#636efa",
           "#EF553B",
           "#00cc96",
           "#ab63fa",
           "#FFA15A",
           "#19d3f3",
           "#FF6692",
           "#B6E880",
           "#FF97FF",
           "#FECB52"
          ],
          "font": {
           "color": "#2a3f5f"
          },
          "geo": {
           "bgcolor": "white",
           "lakecolor": "white",
           "landcolor": "#E5ECF6",
           "showlakes": true,
           "showland": true,
           "subunitcolor": "white"
          },
          "hoverlabel": {
           "align": "left"
          },
          "hovermode": "closest",
          "mapbox": {
           "style": "light"
          },
          "paper_bgcolor": "white",
          "plot_bgcolor": "#E5ECF6",
          "polar": {
           "angularaxis": {
            "gridcolor": "white",
            "linecolor": "white",
            "ticks": ""
           },
           "bgcolor": "#E5ECF6",
           "radialaxis": {
            "gridcolor": "white",
            "linecolor": "white",
            "ticks": ""
           }
          },
          "scene": {
           "xaxis": {
            "backgroundcolor": "#E5ECF6",
            "gridcolor": "white",
            "gridwidth": 2,
            "linecolor": "white",
            "showbackground": true,
            "ticks": "",
            "zerolinecolor": "white"
           },
           "yaxis": {
            "backgroundcolor": "#E5ECF6",
            "gridcolor": "white",
            "gridwidth": 2,
            "linecolor": "white",
            "showbackground": true,
            "ticks": "",
            "zerolinecolor": "white"
           },
           "zaxis": {
            "backgroundcolor": "#E5ECF6",
            "gridcolor": "white",
            "gridwidth": 2,
            "linecolor": "white",
            "showbackground": true,
            "ticks": "",
            "zerolinecolor": "white"
           }
          },
          "shapedefaults": {
           "line": {
            "color": "#2a3f5f"
           }
          },
          "ternary": {
           "aaxis": {
            "gridcolor": "white",
            "linecolor": "white",
            "ticks": ""
           },
           "baxis": {
            "gridcolor": "white",
            "linecolor": "white",
            "ticks": ""
           },
           "bgcolor": "#E5ECF6",
           "caxis": {
            "gridcolor": "white",
            "linecolor": "white",
            "ticks": ""
           }
          },
          "title": {
           "x": 0.05
          },
          "xaxis": {
           "automargin": true,
           "gridcolor": "white",
           "linecolor": "white",
           "ticks": "",
           "title": {
            "standoff": 15
           },
           "zerolinecolor": "white",
           "zerolinewidth": 2
          },
          "yaxis": {
           "automargin": true,
           "gridcolor": "white",
           "linecolor": "white",
           "ticks": "",
           "title": {
            "standoff": 15
           },
           "zerolinecolor": "white",
           "zerolinewidth": 2
          }
         }
        },
        "title": {
         "text": "Monthly flags for BU 10008 in 2021_4 month"
        },
        "transition": {
         "duration": 500
        },
        "width": 700,
        "xaxis": {
         "anchor": "y",
         "categoryarray": [
          "Transaction Volume where vendor is connected to Multiple Addresses under same BU in a month",
          "Transaction Volume where Vendor is connected to Multiple Accounts under same BU in a month",
          "Transaction Volume where Address is connected to Multiple vendors under same BU in a month"
         ],
         "categoryorder": "array",
         "domain": [
          0,
          1
         ],
         "showgrid": false,
         "showticklabels": false,
         "title": {
          "text": "BU flags"
         },
         "visible": false,
         "zeroline": false
        },
        "yaxis": {
         "anchor": "x",
         "domain": [
          0,
          1
         ],
         "title": {
          "text": "Transaction count"
         }
        }
       }
      },
      "text/html": [
       "<div>                            <div id=\"e3bf67b3-3f33-4a51-9f7c-b3c61ae3449f\" class=\"plotly-graph-div\" style=\"height:525px; width:700px;\"></div>            <script type=\"text/javascript\">                require([\"plotly\"], function(Plotly) {                    window.PLOTLYENV=window.PLOTLYENV || {};                                    if (document.getElementById(\"e3bf67b3-3f33-4a51-9f7c-b3c61ae3449f\")) {                    Plotly.newPlot(                        \"e3bf67b3-3f33-4a51-9f7c-b3c61ae3449f\",                        [{\"alignmentgroup\": \"True\", \"hovertemplate\": \"BU flags=%{x}<br>Transaction count=%{y}<extra></extra>\", \"legendgroup\": \"Transaction Volume where vendor is connected to Multiple Addresses under same BU in a month\", \"marker\": {\"color\": \"#636EFA\"}, \"name\": \"Transaction Volume where vendor is connected to Multiple Addresses under same BU in a month\", \"offsetgroup\": \"Transaction Volume where vendor is connected to Multiple Addresses under same BU in a month\", \"orientation\": \"v\", \"showlegend\": true, \"textposition\": \"auto\", \"type\": \"bar\", \"x\": [\"Transaction Volume where vendor is connected to Multiple Addresses under same BU in a month\"], \"xaxis\": \"x\", \"y\": [901], \"yaxis\": \"y\"}, {\"alignmentgroup\": \"True\", \"hovertemplate\": \"BU flags=%{x}<br>Transaction count=%{y}<extra></extra>\", \"legendgroup\": \"Transaction Volume where Vendor is connected to Multiple Accounts under same BU in a month\", \"marker\": {\"color\": \"#EF553B\"}, \"name\": \"Transaction Volume where Vendor is connected to Multiple Accounts under same BU in a month\", \"offsetgroup\": \"Transaction Volume where Vendor is connected to Multiple Accounts under same BU in a month\", \"orientation\": \"v\", \"showlegend\": true, \"textposition\": \"auto\", \"type\": \"bar\", \"x\": [\"Transaction Volume where Vendor is connected to Multiple Accounts under same BU in a month\"], \"xaxis\": \"x\", \"y\": [845], \"yaxis\": \"y\"}, {\"alignmentgroup\": \"True\", \"hovertemplate\": \"BU flags=%{x}<br>Transaction count=%{y}<extra></extra>\", \"legendgroup\": \"Transaction Volume where Address is connected to Multiple vendors under same BU in a month\", \"marker\": {\"color\": \"#00CC96\"}, \"name\": \"Transaction Volume where Address is connected to Multiple vendors under same BU in a month\", \"offsetgroup\": \"Transaction Volume where Address is connected to Multiple vendors under same BU in a month\", \"orientation\": \"v\", \"showlegend\": true, \"textposition\": \"auto\", \"type\": \"bar\", \"x\": [\"Transaction Volume where Address is connected to Multiple vendors under same BU in a month\"], \"xaxis\": \"x\", \"y\": [59], \"yaxis\": \"y\"}],                        {\"autosize\": true, \"barmode\": \"relative\", \"legend\": {\"title\": {\"text\": \"BU flags\"}, \"tracegroupgap\": 0, \"x\": -0.1, \"y\": 1.0, \"yanchor\": \"bottom\"}, \"margin\": {\"b\": 0, \"l\": 0, \"r\": 0, \"t\": 175}, \"template\": {\"data\": {\"bar\": [{\"error_x\": {\"color\": \"#2a3f5f\"}, \"error_y\": {\"color\": \"#2a3f5f\"}, \"marker\": {\"line\": {\"color\": \"#E5ECF6\", \"width\": 0.5}}, \"type\": \"bar\"}], \"barpolar\": [{\"marker\": {\"line\": {\"color\": \"#E5ECF6\", \"width\": 0.5}}, \"type\": \"barpolar\"}], \"carpet\": [{\"aaxis\": {\"endlinecolor\": \"#2a3f5f\", \"gridcolor\": \"white\", \"linecolor\": \"white\", \"minorgridcolor\": \"white\", \"startlinecolor\": \"#2a3f5f\"}, \"baxis\": {\"endlinecolor\": \"#2a3f5f\", \"gridcolor\": \"white\", \"linecolor\": \"white\", \"minorgridcolor\": \"white\", \"startlinecolor\": \"#2a3f5f\"}, \"type\": \"carpet\"}], \"choropleth\": [{\"colorbar\": {\"outlinewidth\": 0, \"ticks\": \"\"}, \"type\": \"choropleth\"}], \"contour\": [{\"colorbar\": {\"outlinewidth\": 0, \"ticks\": \"\"}, \"colorscale\": [[0.0, \"#0d0887\"], [0.1111111111111111, \"#46039f\"], [0.2222222222222222, \"#7201a8\"], [0.3333333333333333, \"#9c179e\"], [0.4444444444444444, \"#bd3786\"], [0.5555555555555556, \"#d8576b\"], [0.6666666666666666, \"#ed7953\"], [0.7777777777777778, \"#fb9f3a\"], [0.8888888888888888, \"#fdca26\"], [1.0, \"#f0f921\"]], \"type\": \"contour\"}], \"contourcarpet\": [{\"colorbar\": {\"outlinewidth\": 0, \"ticks\": \"\"}, \"type\": \"contourcarpet\"}], \"heatmap\": [{\"colorbar\": {\"outlinewidth\": 0, \"ticks\": \"\"}, \"colorscale\": [[0.0, \"#0d0887\"], [0.1111111111111111, \"#46039f\"], [0.2222222222222222, \"#7201a8\"], [0.3333333333333333, \"#9c179e\"], [0.4444444444444444, \"#bd3786\"], [0.5555555555555556, \"#d8576b\"], [0.6666666666666666, \"#ed7953\"], [0.7777777777777778, \"#fb9f3a\"], [0.8888888888888888, \"#fdca26\"], [1.0, \"#f0f921\"]], \"type\": \"heatmap\"}], \"heatmapgl\": [{\"colorbar\": {\"outlinewidth\": 0, \"ticks\": \"\"}, \"colorscale\": [[0.0, \"#0d0887\"], [0.1111111111111111, \"#46039f\"], [0.2222222222222222, \"#7201a8\"], [0.3333333333333333, \"#9c179e\"], [0.4444444444444444, \"#bd3786\"], [0.5555555555555556, \"#d8576b\"], [0.6666666666666666, \"#ed7953\"], [0.7777777777777778, \"#fb9f3a\"], [0.8888888888888888, \"#fdca26\"], [1.0, \"#f0f921\"]], \"type\": \"heatmapgl\"}], \"histogram\": [{\"marker\": {\"colorbar\": {\"outlinewidth\": 0, \"ticks\": \"\"}}, \"type\": \"histogram\"}], \"histogram2d\": [{\"colorbar\": {\"outlinewidth\": 0, \"ticks\": \"\"}, \"colorscale\": [[0.0, \"#0d0887\"], [0.1111111111111111, \"#46039f\"], [0.2222222222222222, \"#7201a8\"], [0.3333333333333333, \"#9c179e\"], [0.4444444444444444, \"#bd3786\"], [0.5555555555555556, \"#d8576b\"], [0.6666666666666666, \"#ed7953\"], [0.7777777777777778, \"#fb9f3a\"], [0.8888888888888888, \"#fdca26\"], [1.0, \"#f0f921\"]], \"type\": \"histogram2d\"}], \"histogram2dcontour\": [{\"colorbar\": {\"outlinewidth\": 0, \"ticks\": \"\"}, \"colorscale\": [[0.0, \"#0d0887\"], [0.1111111111111111, \"#46039f\"], [0.2222222222222222, \"#7201a8\"], [0.3333333333333333, \"#9c179e\"], [0.4444444444444444, \"#bd3786\"], [0.5555555555555556, \"#d8576b\"], [0.6666666666666666, \"#ed7953\"], [0.7777777777777778, \"#fb9f3a\"], [0.8888888888888888, \"#fdca26\"], [1.0, \"#f0f921\"]], \"type\": \"histogram2dcontour\"}], \"mesh3d\": [{\"colorbar\": {\"outlinewidth\": 0, \"ticks\": \"\"}, \"type\": \"mesh3d\"}], \"parcoords\": [{\"line\": {\"colorbar\": {\"outlinewidth\": 0, \"ticks\": \"\"}}, \"type\": \"parcoords\"}], \"pie\": [{\"automargin\": true, \"type\": \"pie\"}], \"scatter\": [{\"marker\": {\"colorbar\": {\"outlinewidth\": 0, \"ticks\": \"\"}}, \"type\": \"scatter\"}], \"scatter3d\": [{\"line\": {\"colorbar\": {\"outlinewidth\": 0, \"ticks\": \"\"}}, \"marker\": {\"colorbar\": {\"outlinewidth\": 0, \"ticks\": \"\"}}, \"type\": \"scatter3d\"}], \"scattercarpet\": [{\"marker\": {\"colorbar\": {\"outlinewidth\": 0, \"ticks\": \"\"}}, \"type\": \"scattercarpet\"}], \"scattergeo\": [{\"marker\": {\"colorbar\": {\"outlinewidth\": 0, \"ticks\": \"\"}}, \"type\": \"scattergeo\"}], \"scattergl\": [{\"marker\": {\"colorbar\": {\"outlinewidth\": 0, \"ticks\": \"\"}}, \"type\": \"scattergl\"}], \"scattermapbox\": [{\"marker\": {\"colorbar\": {\"outlinewidth\": 0, \"ticks\": \"\"}}, \"type\": \"scattermapbox\"}], \"scatterpolar\": [{\"marker\": {\"colorbar\": {\"outlinewidth\": 0, \"ticks\": \"\"}}, \"type\": \"scatterpolar\"}], \"scatterpolargl\": [{\"marker\": {\"colorbar\": {\"outlinewidth\": 0, \"ticks\": \"\"}}, \"type\": \"scatterpolargl\"}], \"scatterternary\": [{\"marker\": {\"colorbar\": {\"outlinewidth\": 0, \"ticks\": \"\"}}, \"type\": \"scatterternary\"}], \"surface\": [{\"colorbar\": {\"outlinewidth\": 0, \"ticks\": \"\"}, \"colorscale\": [[0.0, \"#0d0887\"], [0.1111111111111111, \"#46039f\"], [0.2222222222222222, \"#7201a8\"], [0.3333333333333333, \"#9c179e\"], [0.4444444444444444, \"#bd3786\"], [0.5555555555555556, \"#d8576b\"], [0.6666666666666666, \"#ed7953\"], [0.7777777777777778, \"#fb9f3a\"], [0.8888888888888888, \"#fdca26\"], [1.0, \"#f0f921\"]], \"type\": \"surface\"}], \"table\": [{\"cells\": {\"fill\": {\"color\": \"#EBF0F8\"}, \"line\": {\"color\": \"white\"}}, \"header\": {\"fill\": {\"color\": \"#C8D4E3\"}, \"line\": {\"color\": \"white\"}}, \"type\": \"table\"}]}, \"layout\": {\"annotationdefaults\": {\"arrowcolor\": \"#2a3f5f\", \"arrowhead\": 0, \"arrowwidth\": 1}, \"autotypenumbers\": \"strict\", \"coloraxis\": {\"colorbar\": {\"outlinewidth\": 0, \"ticks\": \"\"}}, \"colorscale\": {\"diverging\": [[0, \"#8e0152\"], [0.1, \"#c51b7d\"], [0.2, \"#de77ae\"], [0.3, \"#f1b6da\"], [0.4, \"#fde0ef\"], [0.5, \"#f7f7f7\"], [0.6, \"#e6f5d0\"], [0.7, \"#b8e186\"], [0.8, \"#7fbc41\"], [0.9, \"#4d9221\"], [1, \"#276419\"]], \"sequential\": [[0.0, \"#0d0887\"], [0.1111111111111111, \"#46039f\"], [0.2222222222222222, \"#7201a8\"], [0.3333333333333333, \"#9c179e\"], [0.4444444444444444, \"#bd3786\"], [0.5555555555555556, \"#d8576b\"], [0.6666666666666666, \"#ed7953\"], [0.7777777777777778, \"#fb9f3a\"], [0.8888888888888888, \"#fdca26\"], [1.0, \"#f0f921\"]], \"sequentialminus\": [[0.0, \"#0d0887\"], [0.1111111111111111, \"#46039f\"], [0.2222222222222222, \"#7201a8\"], [0.3333333333333333, \"#9c179e\"], [0.4444444444444444, \"#bd3786\"], [0.5555555555555556, \"#d8576b\"], [0.6666666666666666, \"#ed7953\"], [0.7777777777777778, \"#fb9f3a\"], [0.8888888888888888, \"#fdca26\"], [1.0, \"#f0f921\"]]}, \"colorway\": [\"#636efa\", \"#EF553B\", \"#00cc96\", \"#ab63fa\", \"#FFA15A\", \"#19d3f3\", \"#FF6692\", \"#B6E880\", \"#FF97FF\", \"#FECB52\"], \"font\": {\"color\": \"#2a3f5f\"}, \"geo\": {\"bgcolor\": \"white\", \"lakecolor\": \"white\", \"landcolor\": \"#E5ECF6\", \"showlakes\": true, \"showland\": true, \"subunitcolor\": \"white\"}, \"hoverlabel\": {\"align\": \"left\"}, \"hovermode\": \"closest\", \"mapbox\": {\"style\": \"light\"}, \"paper_bgcolor\": \"white\", \"plot_bgcolor\": \"#E5ECF6\", \"polar\": {\"angularaxis\": {\"gridcolor\": \"white\", \"linecolor\": \"white\", \"ticks\": \"\"}, \"bgcolor\": \"#E5ECF6\", \"radialaxis\": {\"gridcolor\": \"white\", \"linecolor\": \"white\", \"ticks\": \"\"}}, \"scene\": {\"xaxis\": {\"backgroundcolor\": \"#E5ECF6\", \"gridcolor\": \"white\", \"gridwidth\": 2, \"linecolor\": \"white\", \"showbackground\": true, \"ticks\": \"\", \"zerolinecolor\": \"white\"}, \"yaxis\": {\"backgroundcolor\": \"#E5ECF6\", \"gridcolor\": \"white\", \"gridwidth\": 2, \"linecolor\": \"white\", \"showbackground\": true, \"ticks\": \"\", \"zerolinecolor\": \"white\"}, \"zaxis\": {\"backgroundcolor\": \"#E5ECF6\", \"gridcolor\": \"white\", \"gridwidth\": 2, \"linecolor\": \"white\", \"showbackground\": true, \"ticks\": \"\", \"zerolinecolor\": \"white\"}}, \"shapedefaults\": {\"line\": {\"color\": \"#2a3f5f\"}}, \"ternary\": {\"aaxis\": {\"gridcolor\": \"white\", \"linecolor\": \"white\", \"ticks\": \"\"}, \"baxis\": {\"gridcolor\": \"white\", \"linecolor\": \"white\", \"ticks\": \"\"}, \"bgcolor\": \"#E5ECF6\", \"caxis\": {\"gridcolor\": \"white\", \"linecolor\": \"white\", \"ticks\": \"\"}}, \"title\": {\"x\": 0.05}, \"xaxis\": {\"automargin\": true, \"gridcolor\": \"white\", \"linecolor\": \"white\", \"ticks\": \"\", \"title\": {\"standoff\": 15}, \"zerolinecolor\": \"white\", \"zerolinewidth\": 2}, \"yaxis\": {\"automargin\": true, \"gridcolor\": \"white\", \"linecolor\": \"white\", \"ticks\": \"\", \"title\": {\"standoff\": 15}, \"zerolinecolor\": \"white\", \"zerolinewidth\": 2}}}, \"title\": {\"text\": \"Monthly flags for BU 10008 in 2021_4 month\"}, \"transition\": {\"duration\": 500}, \"width\": 700, \"xaxis\": {\"anchor\": \"y\", \"categoryarray\": [\"Transaction Volume where vendor is connected to Multiple Addresses under same BU in a month\", \"Transaction Volume where Vendor is connected to Multiple Accounts under same BU in a month\", \"Transaction Volume where Address is connected to Multiple vendors under same BU in a month\"], \"categoryorder\": \"array\", \"domain\": [0.0, 1.0], \"showgrid\": false, \"showticklabels\": false, \"title\": {\"text\": \"BU flags\"}, \"visible\": false, \"zeroline\": false}, \"yaxis\": {\"anchor\": \"x\", \"domain\": [0.0, 1.0], \"title\": {\"text\": \"Transaction count\"}}},                        {\"responsive\": true}                    ).then(function(){\n",
       "                            \n",
       "var gd = document.getElementById('e3bf67b3-3f33-4a51-9f7c-b3c61ae3449f');\n",
       "var x = new MutationObserver(function (mutations, observer) {{\n",
       "        var display = window.getComputedStyle(gd).display;\n",
       "        if (!display || display === 'none') {{\n",
       "            console.log([gd, 'removed!']);\n",
       "            Plotly.purge(gd);\n",
       "            observer.disconnect();\n",
       "        }}\n",
       "}});\n",
       "\n",
       "// Listen for the removal of the full notebook cells\n",
       "var notebookContainer = gd.closest('#notebook-container');\n",
       "if (notebookContainer) {{\n",
       "    x.observe(notebookContainer, {childList: true});\n",
       "}}\n",
       "\n",
       "// Listen for the clearing of the current output cell\n",
       "var outputEl = gd.closest('.output');\n",
       "if (outputEl) {{\n",
       "    x.observe(outputEl, {childList: true});\n",
       "}}\n",
       "\n",
       "                        })                };                });            </script>        </div>"
      ]
     },
     "metadata": {},
     "output_type": "display_data"
    }
   ],
   "source": [
    "def monthly_flags_chart(BU, month):    \n",
    "    flags_df_sub = flags_df.loc[(fraud_df.GraphSIF_BUs==BU)&(fraud_df.Month==month),Flag_cols]\n",
    "\n",
    "    flags_count = flags_df_sub[Flag_cols].sum()\n",
    "\n",
    "    flags_count_df = flags_count.to_frame().reset_index()\n",
    "    flags_count_df.columns = ['flag_label', 'count']\n",
    "\n",
    "    flags_count_df['label_name'] = flags_count_df.flag_label.replace(flag_lab2name)\n",
    "\n",
    "\n",
    "    fig = px.bar(flags_count_df, y='count', x='label_name',\n",
    "                 labels={'label_name': 'BU flags',\n",
    "                         'count': 'Transaction count'},\n",
    "                 color='label_name',\n",
    "                 color_discrete_map=color_dict)\n",
    "\n",
    "    fig.update_layout(transition_duration=500,\n",
    "                      legend = dict(yanchor='bottom',\n",
    "                                    y=1.0,\n",
    "                                    x=-0.1),\n",
    "                      title=f\"Monthly flags for BU {BU} in {month} month\",\n",
    "                      autosize=True,\n",
    "                      xaxis=dict(visible=False, showgrid=False,\n",
    "                                 zeroline=False, showticklabels=False),\n",
    "                      margin=dict(t=175, l=0, r=0, b=0),\n",
    "                      width=700)\n",
    "    return fig\n",
    "monthly_flags_chart(BU, month)"
   ]
  },
  {
   "cell_type": "code",
   "execution_count": null,
   "id": "861e3e22",
   "metadata": {},
   "outputs": [],
   "source": []
  }
 ],
 "metadata": {
  "kernelspec": {
   "display_name": "AP_Flask",
   "language": "python",
   "name": "ap_flask"
  },
  "language_info": {
   "codemirror_mode": {
    "name": "ipython",
    "version": 3
   },
   "file_extension": ".py",
   "mimetype": "text/x-python",
   "name": "python",
   "nbconvert_exporter": "python",
   "pygments_lexer": "ipython3",
   "version": "3.7.11"
  },
  "toc": {
   "base_numbering": 1,
   "nav_menu": {},
   "number_sections": true,
   "sideBar": true,
   "skip_h1_title": false,
   "title_cell": "Table of Contents",
   "title_sidebar": "Contents",
   "toc_cell": false,
   "toc_position": {},
   "toc_section_display": true,
   "toc_window_display": false
  }
 },
 "nbformat": 4,
 "nbformat_minor": 5
}
